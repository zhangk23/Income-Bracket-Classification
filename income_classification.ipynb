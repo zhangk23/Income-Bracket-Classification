{
 "cells": [
  {
   "cell_type": "markdown",
   "metadata": {},
   "source": [
    "# MIE 1624 Introduction to Data Science and Analytics – Winter 2018\n",
    "## Assignment 2: Classification Problem\n",
    "#### Kexin Zhang"
   ]
  },
  {
   "cell_type": "markdown",
   "metadata": {
    "collapsed": true
   },
   "source": [
    "The goal of this assignment is to train, validate, and tune multiple classifiers that can predict, given a set of observations about a person, which income bracket they fall into. Datau used in this assignment is census data from a previous year that contains information about people across the United States.\n",
    "\n",
    "<b> Note: </b> <br></br>\n",
    "1. The two csv files used (<i> income-training.csv </i>, <i> income-testing.csv </i>) should be in the same directory as this IPython script.\n",
    "2. Some sections in this script requries longer computation time, your patience is very much appriciated!"
   ]
  },
  {
   "cell_type": "markdown",
   "metadata": {},
   "source": [
    "First, import all libraries needed:"
   ]
  },
  {
   "cell_type": "code",
   "execution_count": 1,
   "metadata": {},
   "outputs": [
    {
     "name": "stderr",
     "output_type": "stream",
     "text": [
      "/Applications/anaconda3/lib/python3.6/site-packages/sklearn/cross_validation.py:41: DeprecationWarning: This module was deprecated in version 0.18 in favor of the model_selection module into which all the refactored classes and functions are moved. Also note that the interface of the new CV iterators are different from that of this module. This module will be removed in 0.20.\n",
      "  \"This module will be removed in 0.20.\", DeprecationWarning)\n",
      "/Applications/anaconda3/lib/python3.6/site-packages/sklearn/grid_search.py:42: DeprecationWarning: This module was deprecated in version 0.18 in favor of the model_selection module into which all the refactored classes and functions are moved. This module will be removed in 0.20.\n",
      "  DeprecationWarning)\n"
     ]
    }
   ],
   "source": [
    "import warnings\n",
    "warnings.filterwarnings('ignore')\n",
    "\n",
    "import numpy as np\n",
    "import matplotlib.pyplot as plt\n",
    "import pandas as pd\n",
    "\n",
    "%matplotlib inline\n",
    "import random\n",
    "from string import ascii_letters\n",
    "import seaborn as sns\n",
    "\n",
    "from sklearn.model_selection import cross_val_score\n",
    "from sklearn.ensemble import BaggingClassifier, GradientBoostingClassifier, RandomForestClassifier\n",
    "from sklearn.neural_network import MLPClassifier\n",
    "from sklearn.grid_search import GridSearchCV\n",
    "from sklearn.linear_model import LogisticRegression,PassiveAggressiveClassifier,SGDClassifier\n",
    "from sklearn.naive_bayes import GaussianNB\n",
    "from sklearn.neighbors import KNeighborsClassifier\n",
    "from sklearn import metrics"
   ]
  },
  {
   "cell_type": "markdown",
   "metadata": {},
   "source": [
    "## 1. Data Cleaning"
   ]
  },
  {
   "cell_type": "markdown",
   "metadata": {},
   "source": [
    "### 1.1 Read data from csv files"
   ]
  },
  {
   "cell_type": "code",
   "execution_count": 2,
   "metadata": {
    "collapsed": true
   },
   "outputs": [],
   "source": [
    "raw_train = pd.read_csv('income-training.csv')\n",
    "raw_test = pd.read_csv('income-testing.csv')"
   ]
  },
  {
   "cell_type": "code",
   "execution_count": 3,
   "metadata": {},
   "outputs": [
    {
     "data": {
      "text/html": [
       "<div>\n",
       "<style>\n",
       "    .dataframe thead tr:only-child th {\n",
       "        text-align: right;\n",
       "    }\n",
       "\n",
       "    .dataframe thead th {\n",
       "        text-align: left;\n",
       "    }\n",
       "\n",
       "    .dataframe tbody tr th {\n",
       "        vertical-align: top;\n",
       "    }\n",
       "</style>\n",
       "<table border=\"1\" class=\"dataframe\">\n",
       "  <thead>\n",
       "    <tr style=\"text-align: right;\">\n",
       "      <th></th>\n",
       "      <th>Age</th>\n",
       "      <th>WorkClass</th>\n",
       "      <th>FinalWeight</th>\n",
       "      <th>Education</th>\n",
       "      <th>EducationLvl</th>\n",
       "      <th>MaritalStatus</th>\n",
       "      <th>Occupation</th>\n",
       "      <th>Relationship</th>\n",
       "      <th>Race</th>\n",
       "      <th>Sex</th>\n",
       "      <th>CapitalGain</th>\n",
       "      <th>CapitalLoss</th>\n",
       "      <th>HoursPerWeek</th>\n",
       "      <th>NativeCountry</th>\n",
       "      <th>IncomeBracket</th>\n",
       "    </tr>\n",
       "  </thead>\n",
       "  <tbody>\n",
       "    <tr>\n",
       "      <th>0</th>\n",
       "      <td>42</td>\n",
       "      <td>State-gov</td>\n",
       "      <td>179151</td>\n",
       "      <td>Some-college</td>\n",
       "      <td>10</td>\n",
       "      <td>Married-civ-spouse</td>\n",
       "      <td>Farming-fishing</td>\n",
       "      <td>Husband</td>\n",
       "      <td>White</td>\n",
       "      <td>Male</td>\n",
       "      <td>0</td>\n",
       "      <td>0</td>\n",
       "      <td>40</td>\n",
       "      <td>United-States</td>\n",
       "      <td>&lt;50K</td>\n",
       "    </tr>\n",
       "    <tr>\n",
       "      <th>1</th>\n",
       "      <td>28</td>\n",
       "      <td>Private</td>\n",
       "      <td>68021</td>\n",
       "      <td>Some-college</td>\n",
       "      <td>10</td>\n",
       "      <td>Never-married</td>\n",
       "      <td>Other-service</td>\n",
       "      <td>Not-in-family</td>\n",
       "      <td>White</td>\n",
       "      <td>Female</td>\n",
       "      <td>0</td>\n",
       "      <td>0</td>\n",
       "      <td>30</td>\n",
       "      <td>United-States</td>\n",
       "      <td>&lt;50K</td>\n",
       "    </tr>\n",
       "    <tr>\n",
       "      <th>2</th>\n",
       "      <td>24</td>\n",
       "      <td>Private</td>\n",
       "      <td>233499</td>\n",
       "      <td>Some-college</td>\n",
       "      <td>10</td>\n",
       "      <td>Married-civ-spouse</td>\n",
       "      <td>Transport-moving</td>\n",
       "      <td>Husband</td>\n",
       "      <td>White</td>\n",
       "      <td>Male</td>\n",
       "      <td>0</td>\n",
       "      <td>0</td>\n",
       "      <td>40</td>\n",
       "      <td>United-States</td>\n",
       "      <td>50-100K</td>\n",
       "    </tr>\n",
       "    <tr>\n",
       "      <th>3</th>\n",
       "      <td>32</td>\n",
       "      <td>Self-emp-not-inc</td>\n",
       "      <td>168782</td>\n",
       "      <td>9th</td>\n",
       "      <td>5</td>\n",
       "      <td>Married-civ-spouse</td>\n",
       "      <td>Craft-repair</td>\n",
       "      <td>Husband</td>\n",
       "      <td>White</td>\n",
       "      <td>Male</td>\n",
       "      <td>0</td>\n",
       "      <td>0</td>\n",
       "      <td>32</td>\n",
       "      <td>United-States</td>\n",
       "      <td>&lt;50K</td>\n",
       "    </tr>\n",
       "    <tr>\n",
       "      <th>4</th>\n",
       "      <td>55</td>\n",
       "      <td>Self-emp-not-inc</td>\n",
       "      <td>105582</td>\n",
       "      <td>Masters</td>\n",
       "      <td>14</td>\n",
       "      <td>Married-civ-spouse</td>\n",
       "      <td>Sales</td>\n",
       "      <td>Husband</td>\n",
       "      <td>White</td>\n",
       "      <td>Male</td>\n",
       "      <td>2228</td>\n",
       "      <td>0</td>\n",
       "      <td>50</td>\n",
       "      <td>United-States</td>\n",
       "      <td>&lt;50K</td>\n",
       "    </tr>\n",
       "  </tbody>\n",
       "</table>\n",
       "</div>"
      ],
      "text/plain": [
       "   Age         WorkClass  FinalWeight     Education  EducationLvl  \\\n",
       "0   42         State-gov       179151  Some-college            10   \n",
       "1   28           Private        68021  Some-college            10   \n",
       "2   24           Private       233499  Some-college            10   \n",
       "3   32  Self-emp-not-inc       168782           9th             5   \n",
       "4   55  Self-emp-not-inc       105582       Masters            14   \n",
       "\n",
       "        MaritalStatus        Occupation   Relationship   Race     Sex  \\\n",
       "0  Married-civ-spouse   Farming-fishing        Husband  White    Male   \n",
       "1       Never-married     Other-service  Not-in-family  White  Female   \n",
       "2  Married-civ-spouse  Transport-moving        Husband  White    Male   \n",
       "3  Married-civ-spouse      Craft-repair        Husband  White    Male   \n",
       "4  Married-civ-spouse             Sales        Husband  White    Male   \n",
       "\n",
       "   CapitalGain  CapitalLoss  HoursPerWeek  NativeCountry IncomeBracket  \n",
       "0            0            0            40  United-States          <50K  \n",
       "1            0            0            30  United-States          <50K  \n",
       "2            0            0            40  United-States       50-100K  \n",
       "3            0            0            32  United-States          <50K  \n",
       "4         2228            0            50  United-States          <50K  "
      ]
     },
     "execution_count": 3,
     "metadata": {},
     "output_type": "execute_result"
    }
   ],
   "source": [
    "raw_train.head()"
   ]
  },
  {
   "cell_type": "code",
   "execution_count": 4,
   "metadata": {},
   "outputs": [
    {
     "data": {
      "text/html": [
       "<div>\n",
       "<style>\n",
       "    .dataframe thead tr:only-child th {\n",
       "        text-align: right;\n",
       "    }\n",
       "\n",
       "    .dataframe thead th {\n",
       "        text-align: left;\n",
       "    }\n",
       "\n",
       "    .dataframe tbody tr th {\n",
       "        vertical-align: top;\n",
       "    }\n",
       "</style>\n",
       "<table border=\"1\" class=\"dataframe\">\n",
       "  <thead>\n",
       "    <tr style=\"text-align: right;\">\n",
       "      <th></th>\n",
       "      <th>Age</th>\n",
       "      <th>WorkClass</th>\n",
       "      <th>FinalWeight</th>\n",
       "      <th>Education</th>\n",
       "      <th>EducationLvl</th>\n",
       "      <th>MaritalStatus</th>\n",
       "      <th>Occupation</th>\n",
       "      <th>Relationship</th>\n",
       "      <th>Race</th>\n",
       "      <th>Sex</th>\n",
       "      <th>CapitalGain</th>\n",
       "      <th>CapitalLoss</th>\n",
       "      <th>HoursPerWeek</th>\n",
       "      <th>NativeCountry</th>\n",
       "      <th>IncomeBracket</th>\n",
       "    </tr>\n",
       "  </thead>\n",
       "  <tbody>\n",
       "    <tr>\n",
       "      <th>0</th>\n",
       "      <td>57</td>\n",
       "      <td>Self-emp-not-inc</td>\n",
       "      <td>152030</td>\n",
       "      <td>Some-college</td>\n",
       "      <td>10</td>\n",
       "      <td>Married-civ-spouse</td>\n",
       "      <td>Sales</td>\n",
       "      <td>Wife</td>\n",
       "      <td>White</td>\n",
       "      <td>Female</td>\n",
       "      <td>0</td>\n",
       "      <td>0</td>\n",
       "      <td>25</td>\n",
       "      <td>United-States</td>\n",
       "      <td>50-100K</td>\n",
       "    </tr>\n",
       "    <tr>\n",
       "      <th>1</th>\n",
       "      <td>35</td>\n",
       "      <td>Private</td>\n",
       "      <td>341643</td>\n",
       "      <td>Bachelors</td>\n",
       "      <td>13</td>\n",
       "      <td>Never-married</td>\n",
       "      <td>Other-service</td>\n",
       "      <td>Other-relative</td>\n",
       "      <td>White</td>\n",
       "      <td>Male</td>\n",
       "      <td>0</td>\n",
       "      <td>0</td>\n",
       "      <td>50</td>\n",
       "      <td>United-States</td>\n",
       "      <td>&lt;50K</td>\n",
       "    </tr>\n",
       "    <tr>\n",
       "      <th>2</th>\n",
       "      <td>26</td>\n",
       "      <td>Private</td>\n",
       "      <td>40915</td>\n",
       "      <td>Bachelors</td>\n",
       "      <td>13</td>\n",
       "      <td>Never-married</td>\n",
       "      <td>Other-service</td>\n",
       "      <td>Not-in-family</td>\n",
       "      <td>White</td>\n",
       "      <td>Female</td>\n",
       "      <td>0</td>\n",
       "      <td>0</td>\n",
       "      <td>25</td>\n",
       "      <td>United-States</td>\n",
       "      <td>&lt;50K</td>\n",
       "    </tr>\n",
       "    <tr>\n",
       "      <th>3</th>\n",
       "      <td>27</td>\n",
       "      <td>Federal-gov</td>\n",
       "      <td>257124</td>\n",
       "      <td>Bachelors</td>\n",
       "      <td>13</td>\n",
       "      <td>Never-married</td>\n",
       "      <td>Transport-moving</td>\n",
       "      <td>Other-relative</td>\n",
       "      <td>White</td>\n",
       "      <td>Male</td>\n",
       "      <td>0</td>\n",
       "      <td>0</td>\n",
       "      <td>35</td>\n",
       "      <td>United-States</td>\n",
       "      <td>&lt;50K</td>\n",
       "    </tr>\n",
       "    <tr>\n",
       "      <th>4</th>\n",
       "      <td>21</td>\n",
       "      <td>Private</td>\n",
       "      <td>256278</td>\n",
       "      <td>HS-grad</td>\n",
       "      <td>9</td>\n",
       "      <td>Never-married</td>\n",
       "      <td>Other-service</td>\n",
       "      <td>Other-relative</td>\n",
       "      <td>Other</td>\n",
       "      <td>Female</td>\n",
       "      <td>0</td>\n",
       "      <td>0</td>\n",
       "      <td>35</td>\n",
       "      <td>El-Salvador</td>\n",
       "      <td>&lt;50K</td>\n",
       "    </tr>\n",
       "  </tbody>\n",
       "</table>\n",
       "</div>"
      ],
      "text/plain": [
       "   Age         WorkClass  FinalWeight     Education  EducationLvl  \\\n",
       "0   57  Self-emp-not-inc       152030  Some-college            10   \n",
       "1   35           Private       341643     Bachelors            13   \n",
       "2   26           Private        40915     Bachelors            13   \n",
       "3   27       Federal-gov       257124     Bachelors            13   \n",
       "4   21           Private       256278       HS-grad             9   \n",
       "\n",
       "        MaritalStatus        Occupation    Relationship   Race     Sex  \\\n",
       "0  Married-civ-spouse             Sales            Wife  White  Female   \n",
       "1       Never-married     Other-service  Other-relative  White    Male   \n",
       "2       Never-married     Other-service   Not-in-family  White  Female   \n",
       "3       Never-married  Transport-moving  Other-relative  White    Male   \n",
       "4       Never-married     Other-service  Other-relative  Other  Female   \n",
       "\n",
       "   CapitalGain  CapitalLoss  HoursPerWeek  NativeCountry IncomeBracket  \n",
       "0            0            0            25  United-States       50-100K  \n",
       "1            0            0            50  United-States          <50K  \n",
       "2            0            0            25  United-States          <50K  \n",
       "3            0            0            35  United-States          <50K  \n",
       "4            0            0            35    El-Salvador          <50K  "
      ]
     },
     "execution_count": 4,
     "metadata": {},
     "output_type": "execute_result"
    }
   ],
   "source": [
    "raw_test.head()"
   ]
  },
  {
   "cell_type": "markdown",
   "metadata": {},
   "source": [
    "### 1.2 Clean data in dataframe"
   ]
  },
  {
   "cell_type": "markdown",
   "metadata": {},
   "source": [
    "The function `clean_data` is defined to clean up both training and testing data sets. First, `clean_data` function checks if a feature is an object (an object corresponds to a categorical feature) then change the corresponding column type to category. Empty values are filled with the feature's mode. Then, categorical data is converted into numerical data by encoding using `pandas.Series.cat.codes ` function that maps categorical varaibles to integer values. On the other hand, features that are not objects corresponds to continous features and missing values are replaced with the feature's mean value. <br>\n",
    "<b>Input: </b><br>\n",
    "- df: dataframe containing training or testing data <br>\n",
    "- set_name: can be either 'train' or 'test', depending on which data set is to be cleaned <br>\n",
    "\n",
    "<b>Output: </b><br>\n",
    "- cleaned_df: cleaned data in dataframe\n",
    "\n"
   ]
  },
  {
   "cell_type": "code",
   "execution_count": 5,
   "metadata": {
    "collapsed": true
   },
   "outputs": [],
   "source": [
    "def clean_data(df, set_name):\n",
    "    cleaned_df = df.copy()\n",
    "    for column in cleaned_df:\n",
    "        if(cleaned_df[column].dtypes == 'object'):\n",
    "            cleaned_df[column] = cleaned_df[column].astype('category')\n",
    "            cleaned_df[column] = cleaned_df[column].fillna(cleaned_df[column].mode()[0])\n",
    "            cleaned_df[column] = cleaned_df[column].cat.codes\n",
    "        else:\n",
    "            if set_name == 'train':\n",
    "                cleaned_df[column] = cleaned_df[column].fillna(round(raw_train[column].mean()))\n",
    "            elif set_name == 'test':\n",
    "                cleaned_df[column] = cleaned_df[column].fillna(round(raw_test[column].mean()))\n",
    "    \n",
    "    return cleaned_df"
   ]
  },
  {
   "cell_type": "code",
   "execution_count": 6,
   "metadata": {
    "collapsed": true
   },
   "outputs": [],
   "source": [
    "clean_train = clean_data(raw_train,'train')\n",
    "clean_test = clean_data(raw_test, 'test')"
   ]
  },
  {
   "cell_type": "code",
   "execution_count": 7,
   "metadata": {},
   "outputs": [
    {
     "data": {
      "text/html": [
       "<div>\n",
       "<style>\n",
       "    .dataframe thead tr:only-child th {\n",
       "        text-align: right;\n",
       "    }\n",
       "\n",
       "    .dataframe thead th {\n",
       "        text-align: left;\n",
       "    }\n",
       "\n",
       "    .dataframe tbody tr th {\n",
       "        vertical-align: top;\n",
       "    }\n",
       "</style>\n",
       "<table border=\"1\" class=\"dataframe\">\n",
       "  <thead>\n",
       "    <tr style=\"text-align: right;\">\n",
       "      <th></th>\n",
       "      <th>Age</th>\n",
       "      <th>WorkClass</th>\n",
       "      <th>FinalWeight</th>\n",
       "      <th>Education</th>\n",
       "      <th>EducationLvl</th>\n",
       "      <th>MaritalStatus</th>\n",
       "      <th>Occupation</th>\n",
       "      <th>Relationship</th>\n",
       "      <th>Race</th>\n",
       "      <th>Sex</th>\n",
       "      <th>CapitalGain</th>\n",
       "      <th>CapitalLoss</th>\n",
       "      <th>HoursPerWeek</th>\n",
       "      <th>NativeCountry</th>\n",
       "      <th>IncomeBracket</th>\n",
       "    </tr>\n",
       "  </thead>\n",
       "  <tbody>\n",
       "    <tr>\n",
       "      <th>0</th>\n",
       "      <td>42</td>\n",
       "      <td>6</td>\n",
       "      <td>179151</td>\n",
       "      <td>15</td>\n",
       "      <td>10</td>\n",
       "      <td>2</td>\n",
       "      <td>4</td>\n",
       "      <td>0</td>\n",
       "      <td>4</td>\n",
       "      <td>1</td>\n",
       "      <td>0</td>\n",
       "      <td>0</td>\n",
       "      <td>40</td>\n",
       "      <td>38</td>\n",
       "      <td>1</td>\n",
       "    </tr>\n",
       "    <tr>\n",
       "      <th>1</th>\n",
       "      <td>28</td>\n",
       "      <td>3</td>\n",
       "      <td>68021</td>\n",
       "      <td>15</td>\n",
       "      <td>10</td>\n",
       "      <td>4</td>\n",
       "      <td>7</td>\n",
       "      <td>1</td>\n",
       "      <td>4</td>\n",
       "      <td>0</td>\n",
       "      <td>0</td>\n",
       "      <td>0</td>\n",
       "      <td>30</td>\n",
       "      <td>38</td>\n",
       "      <td>1</td>\n",
       "    </tr>\n",
       "    <tr>\n",
       "      <th>2</th>\n",
       "      <td>24</td>\n",
       "      <td>3</td>\n",
       "      <td>233499</td>\n",
       "      <td>15</td>\n",
       "      <td>10</td>\n",
       "      <td>2</td>\n",
       "      <td>13</td>\n",
       "      <td>0</td>\n",
       "      <td>4</td>\n",
       "      <td>1</td>\n",
       "      <td>0</td>\n",
       "      <td>0</td>\n",
       "      <td>40</td>\n",
       "      <td>38</td>\n",
       "      <td>0</td>\n",
       "    </tr>\n",
       "    <tr>\n",
       "      <th>3</th>\n",
       "      <td>32</td>\n",
       "      <td>5</td>\n",
       "      <td>168782</td>\n",
       "      <td>6</td>\n",
       "      <td>5</td>\n",
       "      <td>2</td>\n",
       "      <td>2</td>\n",
       "      <td>0</td>\n",
       "      <td>4</td>\n",
       "      <td>1</td>\n",
       "      <td>0</td>\n",
       "      <td>0</td>\n",
       "      <td>32</td>\n",
       "      <td>38</td>\n",
       "      <td>1</td>\n",
       "    </tr>\n",
       "    <tr>\n",
       "      <th>4</th>\n",
       "      <td>55</td>\n",
       "      <td>5</td>\n",
       "      <td>105582</td>\n",
       "      <td>12</td>\n",
       "      <td>14</td>\n",
       "      <td>2</td>\n",
       "      <td>11</td>\n",
       "      <td>0</td>\n",
       "      <td>4</td>\n",
       "      <td>1</td>\n",
       "      <td>2228</td>\n",
       "      <td>0</td>\n",
       "      <td>50</td>\n",
       "      <td>38</td>\n",
       "      <td>1</td>\n",
       "    </tr>\n",
       "  </tbody>\n",
       "</table>\n",
       "</div>"
      ],
      "text/plain": [
       "   Age  WorkClass  FinalWeight  Education  EducationLvl  MaritalStatus  \\\n",
       "0   42          6       179151         15            10              2   \n",
       "1   28          3        68021         15            10              4   \n",
       "2   24          3       233499         15            10              2   \n",
       "3   32          5       168782          6             5              2   \n",
       "4   55          5       105582         12            14              2   \n",
       "\n",
       "   Occupation  Relationship  Race  Sex  CapitalGain  CapitalLoss  \\\n",
       "0           4             0     4    1            0            0   \n",
       "1           7             1     4    0            0            0   \n",
       "2          13             0     4    1            0            0   \n",
       "3           2             0     4    1            0            0   \n",
       "4          11             0     4    1         2228            0   \n",
       "\n",
       "   HoursPerWeek  NativeCountry  IncomeBracket  \n",
       "0            40             38              1  \n",
       "1            30             38              1  \n",
       "2            40             38              0  \n",
       "3            32             38              1  \n",
       "4            50             38              1  "
      ]
     },
     "execution_count": 7,
     "metadata": {},
     "output_type": "execute_result"
    }
   ],
   "source": [
    "clean_train.head()"
   ]
  },
  {
   "cell_type": "code",
   "execution_count": 8,
   "metadata": {},
   "outputs": [
    {
     "data": {
      "text/html": [
       "<div>\n",
       "<style>\n",
       "    .dataframe thead tr:only-child th {\n",
       "        text-align: right;\n",
       "    }\n",
       "\n",
       "    .dataframe thead th {\n",
       "        text-align: left;\n",
       "    }\n",
       "\n",
       "    .dataframe tbody tr th {\n",
       "        vertical-align: top;\n",
       "    }\n",
       "</style>\n",
       "<table border=\"1\" class=\"dataframe\">\n",
       "  <thead>\n",
       "    <tr style=\"text-align: right;\">\n",
       "      <th></th>\n",
       "      <th>Age</th>\n",
       "      <th>WorkClass</th>\n",
       "      <th>FinalWeight</th>\n",
       "      <th>Education</th>\n",
       "      <th>EducationLvl</th>\n",
       "      <th>MaritalStatus</th>\n",
       "      <th>Occupation</th>\n",
       "      <th>Relationship</th>\n",
       "      <th>Race</th>\n",
       "      <th>Sex</th>\n",
       "      <th>CapitalGain</th>\n",
       "      <th>CapitalLoss</th>\n",
       "      <th>HoursPerWeek</th>\n",
       "      <th>NativeCountry</th>\n",
       "      <th>IncomeBracket</th>\n",
       "    </tr>\n",
       "  </thead>\n",
       "  <tbody>\n",
       "    <tr>\n",
       "      <th>0</th>\n",
       "      <td>57</td>\n",
       "      <td>5</td>\n",
       "      <td>152030</td>\n",
       "      <td>15</td>\n",
       "      <td>10</td>\n",
       "      <td>2</td>\n",
       "      <td>11</td>\n",
       "      <td>5</td>\n",
       "      <td>4</td>\n",
       "      <td>0</td>\n",
       "      <td>0</td>\n",
       "      <td>0</td>\n",
       "      <td>25</td>\n",
       "      <td>37</td>\n",
       "      <td>0</td>\n",
       "    </tr>\n",
       "    <tr>\n",
       "      <th>1</th>\n",
       "      <td>35</td>\n",
       "      <td>3</td>\n",
       "      <td>341643</td>\n",
       "      <td>9</td>\n",
       "      <td>13</td>\n",
       "      <td>4</td>\n",
       "      <td>7</td>\n",
       "      <td>2</td>\n",
       "      <td>4</td>\n",
       "      <td>1</td>\n",
       "      <td>0</td>\n",
       "      <td>0</td>\n",
       "      <td>50</td>\n",
       "      <td>37</td>\n",
       "      <td>1</td>\n",
       "    </tr>\n",
       "    <tr>\n",
       "      <th>2</th>\n",
       "      <td>26</td>\n",
       "      <td>3</td>\n",
       "      <td>40915</td>\n",
       "      <td>9</td>\n",
       "      <td>13</td>\n",
       "      <td>4</td>\n",
       "      <td>7</td>\n",
       "      <td>1</td>\n",
       "      <td>4</td>\n",
       "      <td>0</td>\n",
       "      <td>0</td>\n",
       "      <td>0</td>\n",
       "      <td>25</td>\n",
       "      <td>37</td>\n",
       "      <td>1</td>\n",
       "    </tr>\n",
       "    <tr>\n",
       "      <th>3</th>\n",
       "      <td>27</td>\n",
       "      <td>0</td>\n",
       "      <td>257124</td>\n",
       "      <td>9</td>\n",
       "      <td>13</td>\n",
       "      <td>4</td>\n",
       "      <td>13</td>\n",
       "      <td>2</td>\n",
       "      <td>4</td>\n",
       "      <td>1</td>\n",
       "      <td>0</td>\n",
       "      <td>0</td>\n",
       "      <td>35</td>\n",
       "      <td>37</td>\n",
       "      <td>1</td>\n",
       "    </tr>\n",
       "    <tr>\n",
       "      <th>4</th>\n",
       "      <td>21</td>\n",
       "      <td>3</td>\n",
       "      <td>256278</td>\n",
       "      <td>11</td>\n",
       "      <td>9</td>\n",
       "      <td>4</td>\n",
       "      <td>7</td>\n",
       "      <td>2</td>\n",
       "      <td>3</td>\n",
       "      <td>0</td>\n",
       "      <td>0</td>\n",
       "      <td>0</td>\n",
       "      <td>35</td>\n",
       "      <td>7</td>\n",
       "      <td>1</td>\n",
       "    </tr>\n",
       "  </tbody>\n",
       "</table>\n",
       "</div>"
      ],
      "text/plain": [
       "   Age  WorkClass  FinalWeight  Education  EducationLvl  MaritalStatus  \\\n",
       "0   57          5       152030         15            10              2   \n",
       "1   35          3       341643          9            13              4   \n",
       "2   26          3        40915          9            13              4   \n",
       "3   27          0       257124          9            13              4   \n",
       "4   21          3       256278         11             9              4   \n",
       "\n",
       "   Occupation  Relationship  Race  Sex  CapitalGain  CapitalLoss  \\\n",
       "0          11             5     4    0            0            0   \n",
       "1           7             2     4    1            0            0   \n",
       "2           7             1     4    0            0            0   \n",
       "3          13             2     4    1            0            0   \n",
       "4           7             2     3    0            0            0   \n",
       "\n",
       "   HoursPerWeek  NativeCountry  IncomeBracket  \n",
       "0            25             37              0  \n",
       "1            50             37              1  \n",
       "2            25             37              1  \n",
       "3            35             37              1  \n",
       "4            35              7              1  "
      ]
     },
     "execution_count": 8,
     "metadata": {},
     "output_type": "execute_result"
    }
   ],
   "source": [
    "clean_test.head()"
   ]
  },
  {
   "cell_type": "markdown",
   "metadata": {},
   "source": [
    "### 1.3 Split training and testing data in to feature and target sets"
   ]
  },
  {
   "cell_type": "markdown",
   "metadata": {},
   "source": [
    "Since we are interested in IncomeBracket (last column), split the first 14 columns (features) into set x and IncomeBracket into set y (target)."
   ]
  },
  {
   "cell_type": "code",
   "execution_count": 9,
   "metadata": {
    "collapsed": true
   },
   "outputs": [],
   "source": [
    "train_x = clean_train[clean_train.columns[0:14]]\n",
    "train_y = clean_train[clean_train.columns[14]]\n",
    "test_x = clean_test[clean_train.columns[0:14]]\n",
    "test_y = clean_test[clean_train.columns[14]]"
   ]
  },
  {
   "cell_type": "markdown",
   "metadata": {},
   "source": [
    "## 2. Exploratory Data Analysis"
   ]
  },
  {
   "cell_type": "markdown",
   "metadata": {},
   "source": [
    "This section looks into the income trends relating to four features: Education Level, Work Class, Marital Stauts and Gender. <br>\n",
    "\n",
    "The function `income_analysis` is defined study the distribution of categorical features in three income groups: <br>\n",
    " - high-income (more than 100K) <br>\n",
    " - mid-income(50-100K) <br>\n",
    " - low-income (less than 50K)   <br>\n",
    "\n",
    "<b>Input: </b><br>\n",
    "- level: income level, can be 0(mid), 1(low) or 2(high) <br>\n",
    "- feature: name of the specific feature of interest (e.g. 'EducationLvl') <br>\n",
    "\n",
    "<b>Output: </b><br>\n",
    "- income_feature_freq: list of frequencies of each group in the selected feature <br>"
   ]
  },
  {
   "cell_type": "code",
   "execution_count": 10,
   "metadata": {
    "collapsed": true
   },
   "outputs": [],
   "source": [
    "def income_analysis(level, feature):\n",
    "    income_feature_freq = []\n",
    "    # Values in EdicationLvl column start from 1 instead of 0\n",
    "    if feature == 'EducationLvl':\n",
    "        for category in range(1,max(clean_train[feature])+1):\n",
    "            count = 0\n",
    "            for index, row in clean_train.iterrows():\n",
    "                if row['IncomeBracket'] == level and row[feature] == category:\n",
    "                    count += 1 \n",
    "\n",
    "            category += 1\n",
    "            income_feature_freq.append(count)\n",
    "    \n",
    "    else:\n",
    "        for category in range(0,max(clean_train[feature])+1):\n",
    "            count = 0\n",
    "            for index, row in clean_train.iterrows():\n",
    "                if row['IncomeBracket'] == level and row[feature] == category:\n",
    "                    count += 1 \n",
    "\n",
    "            category += 1\n",
    "            income_feature_freq.append(count)\n",
    "            \n",
    "    return income_feature_freq"
   ]
  },
  {
   "cell_type": "markdown",
   "metadata": {},
   "source": [
    "The function `generate_color` will be used to generate color hex values for visulizations. \n",
    "\n",
    "<b>Input: </b><br>\n",
    "- n: number of colors to be generated <br>\n",
    "\n",
    "<b>Output: </b><br>\n",
    "- color_list: list containing hex values of n colors"
   ]
  },
  {
   "cell_type": "code",
   "execution_count": 11,
   "metadata": {
    "collapsed": true
   },
   "outputs": [],
   "source": [
    "def generate_color(n):\n",
    "    color_list = []\n",
    "    for i in range(0,n):\n",
    "        r = lambda: random.randint(0,255)\n",
    "        color_hex = '#%02X%02X%02X' % (r(),r(),r())\n",
    "        color_list.append(color_hex)\n",
    "    return color_list"
   ]
  },
  {
   "cell_type": "markdown",
   "metadata": {},
   "source": [
    "### 2.1 Income vs. Education Level"
   ]
  },
  {
   "cell_type": "markdown",
   "metadata": {},
   "source": [
    "Get Education Level distribution in high, mid and low income groups:"
   ]
  },
  {
   "cell_type": "code",
   "execution_count": 12,
   "metadata": {
    "collapsed": true
   },
   "outputs": [],
   "source": [
    "high_income_Ed = income_analysis(2, 'EducationLvl')\n",
    "low_income_Ed = income_analysis(1, 'EducationLvl')\n",
    "mid_income_Ed = income_analysis(0, 'EducationLvl')\n",
    "\n",
    "Ed_titles = ['Preschool', '1st-4th', '5th-6th', '7th-8th','9th', '10th', '11th', '12th','HS-grad', 'Some-college','Assoc-voc','Assoc-acdm','Bachelors','Masters','Prof-school','Doctorate']"
   ]
  },
  {
   "cell_type": "markdown",
   "metadata": {},
   "source": [
    "Plot Education Level distribution in three income groups:"
   ]
  },
  {
   "cell_type": "code",
   "execution_count": 13,
   "metadata": {},
   "outputs": [
    {
     "data": {
      "image/png": "[encoded data removed]",
      "text/plain": [
       "<matplotlib.figure.Figure at 0x109d83048>"
      ]
     },
     "metadata": {},
     "output_type": "display_data"
    }
   ],
   "source": [
    "plt.rcParams['figure.figsize'] = (20, 5)\n",
    "\n",
    "colors_Ed = ['#423FBD','#909662','#ff9966','#5E3B52','#8ED3E0','#FB41CD','#cc9900','#F9B78B','#6ED253','#ffcc00', '#85e085','#66b3ff', '#ff6666','#c266ff', '#ff9900', '#00ccff']\n",
    "plt.subplot(131)\n",
    "plt.pie(high_income_Ed, colors = colors_Ed, autopct='%1.1f%%', shadow=False, startangle=180, labeldistance=1.05)\n",
    "plt.axis('equal')\n",
    "plt.gca().set_title('Education Levels Distribution \\n of High-Income (>100K) Group')\n",
    "\n",
    "plt.subplot(132)\n",
    "plt.pie(mid_income_Ed, colors = colors_Ed, autopct='%1.1f%%', shadow=False, startangle=180, labeldistance=1.05)\n",
    "plt.axis('equal')\n",
    "plt.gca().set_title('Education Levels Distribution \\n of Mid-Income (50-100K) Group')\n",
    "\n",
    "plt.subplot(133)\n",
    "plt.pie(low_income_Ed, colors = colors_Ed, autopct='%1.1f%%', shadow=False, startangle=180, labeldistance=1.05)\n",
    "plt.legend(labels=Ed_titles, loc=\"lower right\", bbox_to_anchor=(1.5,0))\n",
    "plt.axis('equal')\n",
    "plt.gca().set_title('Education Levels Distribution \\n of Low-Income (<50K) Group') \n",
    "\n",
    "plt.show() "
   ]
  },
  {
   "cell_type": "markdown",
   "metadata": {},
   "source": [
    "The above results show that in high-income (>100K) group, the education level is more diverse, with most people holding a Bachlors, Masters or HS-degree and others with Doctorate or Prof-school degrees. Low-income group has more people with HS-degree ann college degree. "
   ]
  },
  {
   "cell_type": "markdown",
   "metadata": {},
   "source": [
    "### 2.2 Income vs. Work Class"
   ]
  },
  {
   "cell_type": "markdown",
   "metadata": {},
   "source": [
    "Get Work Class Level distribution in high, mid and low income groups:"
   ]
  },
  {
   "cell_type": "code",
   "execution_count": 14,
   "metadata": {
    "collapsed": true
   },
   "outputs": [],
   "source": [
    "high_income_Wclass = income_analysis(2, 'WorkClass')\n",
    "low_income_Wclass = income_analysis(1, 'WorkClass')\n",
    "mid_income_Wclass = income_analysis(0, 'WorkClass')\n",
    "\n",
    "Wclass_titles = ['Federal-gov', 'Local-gov', 'Never-worked', 'Private', 'Self-emp-inc', 'Self-emp-not-inc','State-gov','Without-pay']"
   ]
  },
  {
   "cell_type": "markdown",
   "metadata": {},
   "source": [
    "Plot Work Class Level distribution in three income groups:"
   ]
  },
  {
   "cell_type": "code",
   "execution_count": 15,
   "metadata": {},
   "outputs": [
    {
     "data": {
      "image/png": "[encoded data removed]",
      "text/plain": [
       "<matplotlib.figure.Figure at 0x1132ac898>"
      ]
     },
     "metadata": {},
     "output_type": "display_data"
    }
   ],
   "source": [
    "plt.rcParams['figure.figsize'] = (20, 5)\n",
    "\n",
    "colors_Wclass = ['#B424FE', '#ff6666', '#6ED253','#ffcc00', '#85e085','#66b3ff','#F9B78B', '#800000']\n",
    "plt.subplot(131)\n",
    "plt.pie(high_income_Wclass, colors = colors_Wclass, autopct='%1.1f%%', shadow=False, startangle=180, labeldistance=1.05)\n",
    "plt.axis('equal')\n",
    "plt.gca().set_title('Education Levels Distribution \\n of High-Income (>100K) Group')\n",
    "\n",
    "plt.subplot(132)\n",
    "plt.pie(mid_income_Wclass, colors = colors_Wclass, autopct='%1.1f%%', shadow=False, startangle=180, labeldistance=1.05)\n",
    "plt.axis('equal')\n",
    "plt.gca().set_title('Work Class Distribution \\n of Mid-Income (50-100K) Group')\n",
    "\n",
    "plt.subplot(133)\n",
    "plt.pie(low_income_Wclass, colors = colors_Wclass, autopct='%1.1f%%', shadow=False, startangle=180, labeldistance=1.05)\n",
    "plt.legend(labels=Wclass_titles, loc=\"lower right\", bbox_to_anchor=(1.5,0))\n",
    "plt.axis('equal')\n",
    "plt.gca().set_title('Work Class Distribution \\n of Low-Income (<50K) Group') \n",
    "\n",
    "plt.show() "
   ]
  },
  {
   "cell_type": "markdown",
   "metadata": {},
   "source": [
    "The above results show that the majority of people work in private sectors in all three income groups, which suggests that work class doesn't have a strong correlation with income level and the feature can be eliminated during feature selection. "
   ]
  },
  {
   "cell_type": "markdown",
   "metadata": {},
   "source": [
    "### 2.3 Income vs. Marital Status"
   ]
  },
  {
   "cell_type": "markdown",
   "metadata": {},
   "source": [
    "Get Marital Status distribution in high, mid and low income groups:"
   ]
  },
  {
   "cell_type": "code",
   "execution_count": 16,
   "metadata": {
    "collapsed": true
   },
   "outputs": [],
   "source": [
    "high_income_Mstatus = income_analysis(2, 'MaritalStatus')\n",
    "low_income_Mstatus = income_analysis(1, 'MaritalStatus')\n",
    "mid_income_Mstatus = income_analysis(0, 'MaritalStatus')\n",
    "\n",
    "Mstatus_titles = ['Divorced', 'Married-AF-spouse', 'Married-civ-spouse', 'Married-spouse-absent', 'Never-married', 'Separated','Widowed']"
   ]
  },
  {
   "cell_type": "markdown",
   "metadata": {},
   "source": [
    "Plot Marital Status distribution in three income groups:"
   ]
  },
  {
   "cell_type": "code",
   "execution_count": 17,
   "metadata": {},
   "outputs": [
    {
     "data": {
      "image/png": "[encoded data removed]",
      "text/plain": [
       "<matplotlib.figure.Figure at 0x1133dcc50>"
      ]
     },
     "metadata": {},
     "output_type": "display_data"
    }
   ],
   "source": [
    "plt.rcParams['figure.figsize'] = (20, 5)\n",
    "\n",
    "colors_Mstatus = ['#B424FE', '#ffcc00', '#85e085','#66b3ff','#ff6666','#F9B78B','#c266ff']\n",
    "plt.subplot(131)\n",
    "plt.pie(high_income_Mstatus, colors = colors_Mstatus, autopct='%1.1f%%', shadow=False, startangle=180, labeldistance=1.05)\n",
    "plt.axis('equal')\n",
    "plt.gca().set_title('Marital Status Distribution \\n of High-Income (>100K) Group')\n",
    "\n",
    "plt.subplot(132)\n",
    "plt.pie(mid_income_Mstatus, colors = colors_Mstatus, autopct='%1.1f%%', shadow=False, startangle=180, labeldistance=1.05)\n",
    "plt.axis('equal')\n",
    "plt.gca().set_title('Marital Status Distribution \\n of Mid-Income (50-100K) Group')\n",
    "\n",
    "plt.subplot(133)\n",
    "plt.pie(low_income_Mstatus, colors = colors_Mstatus, autopct='%1.1f%%', shadow=False, startangle=180, labeldistance=1.05)\n",
    "plt.legend(labels=Mstatus_titles, loc=\"lower right\", bbox_to_anchor=(1.5,0))\n",
    "plt.axis('equal')\n",
    "plt.gca().set_title('Marital Status Distribution \\n of Low-Income (<50K) Group') \n",
    "\n",
    "plt.show() "
   ]
  },
  {
   "cell_type": "markdown",
   "metadata": {},
   "source": [
    "The above results show that for among people with high-income and mid-income, the majority are married with spouse (Married-civ-spouse). In low-income group, a large number of people are also never-married or divorced. The result show some correlation between marital status and correlation. "
   ]
  },
  {
   "cell_type": "markdown",
   "metadata": {},
   "source": [
    "### 2.4 Income vs. Gender"
   ]
  },
  {
   "cell_type": "markdown",
   "metadata": {},
   "source": [
    "Get Gender distribution in high, mid and low income groups:"
   ]
  },
  {
   "cell_type": "code",
   "execution_count": 18,
   "metadata": {
    "collapsed": true
   },
   "outputs": [],
   "source": [
    "high_income_gender = income_analysis(2, 'Sex')\n",
    "low_income_gender = income_analysis(1, 'Sex')\n",
    "mid_income_gender = income_analysis(0, 'Sex')\n",
    "\n",
    "gender_titles = ['Female','Male']"
   ]
  },
  {
   "cell_type": "markdown",
   "metadata": {},
   "source": [
    "Plot Gender distribution in three income groups:"
   ]
  },
  {
   "cell_type": "code",
   "execution_count": 19,
   "metadata": {},
   "outputs": [
    {
     "data": {
      "image/png": "[encoded data removed]",
      "text/plain": [
       "<matplotlib.figure.Figure at 0x1132ac710>"
      ]
     },
     "metadata": {},
     "output_type": "display_data"
    }
   ],
   "source": [
    "plt.rcParams['figure.figsize'] = (20, 5)\n",
    "\n",
    "colors_gender = ['#ff6666','#85e085']\n",
    "plt.subplot(131)\n",
    "plt.pie(high_income_gender, colors = colors_gender, autopct='%1.1f%%', shadow=False, startangle=180, labeldistance=1.05)\n",
    "plt.axis('equal')\n",
    "plt.gca().set_title('Gender Distribution \\n of High-Income (>100K) Group')\n",
    "\n",
    "plt.subplot(132)\n",
    "plt.pie(mid_income_gender, colors = colors_gender, autopct='%1.1f%%', shadow=False, startangle=180, labeldistance=1.05)\n",
    "plt.axis('equal')\n",
    "plt.gca().set_title('Gender Distribution \\n of Mid-Income (50-100K) Group')\n",
    "\n",
    "plt.subplot(133)\n",
    "plt.pie(low_income_gender, colors = colors_gender, autopct='%1.1f%%', shadow=False, startangle=180, labeldistance=1.05)\n",
    "plt.legend(labels=gender_titles, loc=\"lower right\", bbox_to_anchor=(1.5,0))\n",
    "plt.axis('equal')\n",
    "plt.gca().set_title('Gender Distribution \\n of Low-Income (<50K) Group') \n",
    "\n",
    "plt.show() "
   ]
  },
  {
   "cell_type": "markdown",
   "metadata": {},
   "source": [
    "The above results show that in both high-income and mid-income groups, the majority of people are male and in low-income groups, the percentage of female is higher than the other two income groups. "
   ]
  },
  {
   "cell_type": "markdown",
   "metadata": {},
   "source": [
    "### 2.5 Feauture Importance"
   ]
  },
  {
   "cell_type": "markdown",
   "metadata": {
    "collapsed": true
   },
   "source": [
    "Plot correlation matrix using seaborn: <br>\n",
    "reference: https://seaborn.pydata.org/examples/many_pairwise_correlations.html"
   ]
  },
  {
   "cell_type": "code",
   "execution_count": 20,
   "metadata": {},
   "outputs": [
    {
     "data": {
      "text/plain": [
       "<matplotlib.axes._subplots.AxesSubplot at 0x11387b668>"
      ]
     },
     "execution_count": 20,
     "metadata": {},
     "output_type": "execute_result"
    },
    {
     "data": {
      "image/png": "[encoded data removed]",
      "text/plain": [
       "<matplotlib.figure.Figure at 0x110c896a0>"
      ]
     },
     "metadata": {},
     "output_type": "display_data"
    }
   ],
   "source": [
    "sns.set(style=\"white\")\n",
    "\n",
    "# Compute the correlation matrix\n",
    "corr_matrix = clean_train.copy()\n",
    "corr = corr_matrix.corr()\n",
    "\n",
    "# Generate a mask for the upper triangle\n",
    "mask = np.zeros_like(corr, dtype=np.bool)\n",
    "mask[np.triu_indices_from(mask)] = True\n",
    "\n",
    "# Set up the matplotlib figure\n",
    "f, ax = plt.subplots(figsize=(10, 7))\n",
    "\n",
    "# Generate a custom diverging colormap\n",
    "cmap = sns.diverging_palette(220, 10, as_cmap=True)\n",
    "\n",
    "# Draw the heatmap with the mask and correct aspect ratio\n",
    "sns.heatmap(corr, mask=mask, cmap=cmap, vmax=1, center=0,\n",
    "            square=True, linewidths=.5, cbar_kws={\"shrink\": .5})"
   ]
  },
  {
   "cell_type": "markdown",
   "metadata": {},
   "source": [
    "Plot correlatino matrix with matplotlib:"
   ]
  },
  {
   "cell_type": "code",
   "execution_count": 21,
   "metadata": {},
   "outputs": [
    {
     "data": {
      "image/png": "[encoded data removed]",
      "text/plain": [
       "<matplotlib.figure.Figure at 0x1137cdf28>"
      ]
     },
     "metadata": {},
     "output_type": "display_data"
    }
   ],
   "source": [
    "plt.rcParams['figure.figsize'] = (10, 7)\n",
    "\n",
    "corr_matrix = clean_train.copy()\n",
    "corr_matrix = corr_matrix.corr()\n",
    "\n",
    "plt.matshow(np.asarray(corr_matrix))\n",
    "fea_titles = clean_train.columns[0:15]\n",
    "cor_y_pos = np.arange(len(fea_titles))\n",
    "\n",
    "plt.xticks(cor_y_pos, fea_titles, rotation = 75)\n",
    "plt.yticks(cor_y_pos, fea_titles)\n",
    "plt.title('Correlation Plot of Training Dataset', fontsize = 14, fontweight = 'bold', y = 1.3)\n",
    "plt.colorbar()\n",
    "plt.show()"
   ]
  },
  {
   "cell_type": "markdown",
   "metadata": {},
   "source": [
    "The following observations can be made based on correlation matrix plot:\n",
    "\n",
    "- CapitalGaina and CapitalLoss are correalted to IncomeBracket and the two co-correlated features can be integrated into one during feature engineering and selection.\n",
    "- Marital Status and Relationship features have very strong correlation with each other, but are not strongly correlated with IncomeBracket and therefore these two features can be eliminated during feature selection. \n",
    "- HoursPerWeek has strong correlation with IncomeBracket and is to be included during feature selection\n",
    "- Education and EdcuationLvl are correlated to each other and EducationLvl has more correlation with IncomeBraket. As a result EducationLvl are to be included during feature selection.\n",
    "- Age and Sex also have strong correlation with IncomeBracket and are to be included during feature selection"
   ]
  },
  {
   "cell_type": "markdown",
   "metadata": {},
   "source": [
    "## 3. Feature Selection"
   ]
  },
  {
   "cell_type": "markdown",
   "metadata": {},
   "source": [
    "### 3.1 Feature Engineering"
   ]
  },
  {
   "cell_type": "markdown",
   "metadata": {},
   "source": [
    "#### 3.1.1 Create Age Bracket"
   ]
  },
  {
   "cell_type": "markdown",
   "metadata": {},
   "source": [
    "Create age bracket by dividing ages into 5 groups: 0-20(0), 21-30(1), 31-40(2), 41-50(3), 51-100(4). First create a dictionary with keys = continuous ages and values = group numbers (0,1,2,3) that correspond to ages:"
   ]
  },
  {
   "cell_type": "code",
   "execution_count": 22,
   "metadata": {
    "collapsed": true
   },
   "outputs": [],
   "source": [
    "age_group = 0\n",
    "age_mark = 21\n",
    "age_list = []\n",
    "age_grouped = []\n",
    "for i in range(0,100):\n",
    "    age_list.append(i)\n",
    "    if i < age_mark:\n",
    "        age_grouped.append(age_group)\n",
    "    elif i < 51:\n",
    "        age_group += 1\n",
    "        age_mark += 10\n",
    "        age_grouped.append(age_group)\n",
    "    else:\n",
    "        age_grouped.append(4)"
   ]
  },
  {
   "cell_type": "code",
   "execution_count": 23,
   "metadata": {
    "collapsed": true
   },
   "outputs": [],
   "source": [
    "age_dict = dict(zip(age_list, age_grouped))"
   ]
  },
  {
   "cell_type": "markdown",
   "metadata": {},
   "source": [
    "Use `age_dict` to map Age to AgeBracket and add AgeBracket as a new column to the dataframe:"
   ]
  },
  {
   "cell_type": "code",
   "execution_count": 24,
   "metadata": {
    "collapsed": true
   },
   "outputs": [],
   "source": [
    "def group_age(df):\n",
    "    AgeBracket = []\n",
    "    for index, row in df.iterrows():\n",
    "        for key, value in age_dict.items():\n",
    "            if row['Age'] == key:\n",
    "                AgeBracket.append(value)\n",
    "    return AgeBracket"
   ]
  },
  {
   "cell_type": "code",
   "execution_count": 25,
   "metadata": {
    "collapsed": true
   },
   "outputs": [],
   "source": [
    "clean_train['AgeBracket'] = group_age(clean_train)\n",
    "clean_test['AgeBracket'] = group_age(clean_test)"
   ]
  },
  {
   "cell_type": "code",
   "execution_count": 26,
   "metadata": {},
   "outputs": [
    {
     "data": {
      "text/html": [
       "<div>\n",
       "<style>\n",
       "    .dataframe thead tr:only-child th {\n",
       "        text-align: right;\n",
       "    }\n",
       "\n",
       "    .dataframe thead th {\n",
       "        text-align: left;\n",
       "    }\n",
       "\n",
       "    .dataframe tbody tr th {\n",
       "        vertical-align: top;\n",
       "    }\n",
       "</style>\n",
       "<table border=\"1\" class=\"dataframe\">\n",
       "  <thead>\n",
       "    <tr style=\"text-align: right;\">\n",
       "      <th></th>\n",
       "      <th>Age</th>\n",
       "      <th>WorkClass</th>\n",
       "      <th>FinalWeight</th>\n",
       "      <th>Education</th>\n",
       "      <th>EducationLvl</th>\n",
       "      <th>MaritalStatus</th>\n",
       "      <th>Occupation</th>\n",
       "      <th>Relationship</th>\n",
       "      <th>Race</th>\n",
       "      <th>Sex</th>\n",
       "      <th>CapitalGain</th>\n",
       "      <th>CapitalLoss</th>\n",
       "      <th>HoursPerWeek</th>\n",
       "      <th>NativeCountry</th>\n",
       "      <th>IncomeBracket</th>\n",
       "      <th>AgeBracket</th>\n",
       "    </tr>\n",
       "  </thead>\n",
       "  <tbody>\n",
       "    <tr>\n",
       "      <th>0</th>\n",
       "      <td>42</td>\n",
       "      <td>6</td>\n",
       "      <td>179151</td>\n",
       "      <td>15</td>\n",
       "      <td>10</td>\n",
       "      <td>2</td>\n",
       "      <td>4</td>\n",
       "      <td>0</td>\n",
       "      <td>4</td>\n",
       "      <td>1</td>\n",
       "      <td>0</td>\n",
       "      <td>0</td>\n",
       "      <td>40</td>\n",
       "      <td>38</td>\n",
       "      <td>1</td>\n",
       "      <td>3</td>\n",
       "    </tr>\n",
       "    <tr>\n",
       "      <th>1</th>\n",
       "      <td>28</td>\n",
       "      <td>3</td>\n",
       "      <td>68021</td>\n",
       "      <td>15</td>\n",
       "      <td>10</td>\n",
       "      <td>4</td>\n",
       "      <td>7</td>\n",
       "      <td>1</td>\n",
       "      <td>4</td>\n",
       "      <td>0</td>\n",
       "      <td>0</td>\n",
       "      <td>0</td>\n",
       "      <td>30</td>\n",
       "      <td>38</td>\n",
       "      <td>1</td>\n",
       "      <td>1</td>\n",
       "    </tr>\n",
       "    <tr>\n",
       "      <th>2</th>\n",
       "      <td>24</td>\n",
       "      <td>3</td>\n",
       "      <td>233499</td>\n",
       "      <td>15</td>\n",
       "      <td>10</td>\n",
       "      <td>2</td>\n",
       "      <td>13</td>\n",
       "      <td>0</td>\n",
       "      <td>4</td>\n",
       "      <td>1</td>\n",
       "      <td>0</td>\n",
       "      <td>0</td>\n",
       "      <td>40</td>\n",
       "      <td>38</td>\n",
       "      <td>0</td>\n",
       "      <td>1</td>\n",
       "    </tr>\n",
       "    <tr>\n",
       "      <th>3</th>\n",
       "      <td>32</td>\n",
       "      <td>5</td>\n",
       "      <td>168782</td>\n",
       "      <td>6</td>\n",
       "      <td>5</td>\n",
       "      <td>2</td>\n",
       "      <td>2</td>\n",
       "      <td>0</td>\n",
       "      <td>4</td>\n",
       "      <td>1</td>\n",
       "      <td>0</td>\n",
       "      <td>0</td>\n",
       "      <td>32</td>\n",
       "      <td>38</td>\n",
       "      <td>1</td>\n",
       "      <td>2</td>\n",
       "    </tr>\n",
       "    <tr>\n",
       "      <th>4</th>\n",
       "      <td>55</td>\n",
       "      <td>5</td>\n",
       "      <td>105582</td>\n",
       "      <td>12</td>\n",
       "      <td>14</td>\n",
       "      <td>2</td>\n",
       "      <td>11</td>\n",
       "      <td>0</td>\n",
       "      <td>4</td>\n",
       "      <td>1</td>\n",
       "      <td>2228</td>\n",
       "      <td>0</td>\n",
       "      <td>50</td>\n",
       "      <td>38</td>\n",
       "      <td>1</td>\n",
       "      <td>4</td>\n",
       "    </tr>\n",
       "  </tbody>\n",
       "</table>\n",
       "</div>"
      ],
      "text/plain": [
       "   Age  WorkClass  FinalWeight  Education  EducationLvl  MaritalStatus  \\\n",
       "0   42          6       179151         15            10              2   \n",
       "1   28          3        68021         15            10              4   \n",
       "2   24          3       233499         15            10              2   \n",
       "3   32          5       168782          6             5              2   \n",
       "4   55          5       105582         12            14              2   \n",
       "\n",
       "   Occupation  Relationship  Race  Sex  CapitalGain  CapitalLoss  \\\n",
       "0           4             0     4    1            0            0   \n",
       "1           7             1     4    0            0            0   \n",
       "2          13             0     4    1            0            0   \n",
       "3           2             0     4    1            0            0   \n",
       "4          11             0     4    1         2228            0   \n",
       "\n",
       "   HoursPerWeek  NativeCountry  IncomeBracket  AgeBracket  \n",
       "0            40             38              1           3  \n",
       "1            30             38              1           1  \n",
       "2            40             38              0           1  \n",
       "3            32             38              1           2  \n",
       "4            50             38              1           4  "
      ]
     },
     "execution_count": 26,
     "metadata": {},
     "output_type": "execute_result"
    }
   ],
   "source": [
    "clean_train.head()"
   ]
  },
  {
   "cell_type": "code",
   "execution_count": 27,
   "metadata": {},
   "outputs": [
    {
     "data": {
      "text/html": [
       "<div>\n",
       "<style>\n",
       "    .dataframe thead tr:only-child th {\n",
       "        text-align: right;\n",
       "    }\n",
       "\n",
       "    .dataframe thead th {\n",
       "        text-align: left;\n",
       "    }\n",
       "\n",
       "    .dataframe tbody tr th {\n",
       "        vertical-align: top;\n",
       "    }\n",
       "</style>\n",
       "<table border=\"1\" class=\"dataframe\">\n",
       "  <thead>\n",
       "    <tr style=\"text-align: right;\">\n",
       "      <th></th>\n",
       "      <th>Age</th>\n",
       "      <th>WorkClass</th>\n",
       "      <th>FinalWeight</th>\n",
       "      <th>Education</th>\n",
       "      <th>EducationLvl</th>\n",
       "      <th>MaritalStatus</th>\n",
       "      <th>Occupation</th>\n",
       "      <th>Relationship</th>\n",
       "      <th>Race</th>\n",
       "      <th>Sex</th>\n",
       "      <th>CapitalGain</th>\n",
       "      <th>CapitalLoss</th>\n",
       "      <th>HoursPerWeek</th>\n",
       "      <th>NativeCountry</th>\n",
       "      <th>IncomeBracket</th>\n",
       "      <th>AgeBracket</th>\n",
       "    </tr>\n",
       "  </thead>\n",
       "  <tbody>\n",
       "    <tr>\n",
       "      <th>0</th>\n",
       "      <td>57</td>\n",
       "      <td>5</td>\n",
       "      <td>152030</td>\n",
       "      <td>15</td>\n",
       "      <td>10</td>\n",
       "      <td>2</td>\n",
       "      <td>11</td>\n",
       "      <td>5</td>\n",
       "      <td>4</td>\n",
       "      <td>0</td>\n",
       "      <td>0</td>\n",
       "      <td>0</td>\n",
       "      <td>25</td>\n",
       "      <td>37</td>\n",
       "      <td>0</td>\n",
       "      <td>4</td>\n",
       "    </tr>\n",
       "    <tr>\n",
       "      <th>1</th>\n",
       "      <td>35</td>\n",
       "      <td>3</td>\n",
       "      <td>341643</td>\n",
       "      <td>9</td>\n",
       "      <td>13</td>\n",
       "      <td>4</td>\n",
       "      <td>7</td>\n",
       "      <td>2</td>\n",
       "      <td>4</td>\n",
       "      <td>1</td>\n",
       "      <td>0</td>\n",
       "      <td>0</td>\n",
       "      <td>50</td>\n",
       "      <td>37</td>\n",
       "      <td>1</td>\n",
       "      <td>2</td>\n",
       "    </tr>\n",
       "    <tr>\n",
       "      <th>2</th>\n",
       "      <td>26</td>\n",
       "      <td>3</td>\n",
       "      <td>40915</td>\n",
       "      <td>9</td>\n",
       "      <td>13</td>\n",
       "      <td>4</td>\n",
       "      <td>7</td>\n",
       "      <td>1</td>\n",
       "      <td>4</td>\n",
       "      <td>0</td>\n",
       "      <td>0</td>\n",
       "      <td>0</td>\n",
       "      <td>25</td>\n",
       "      <td>37</td>\n",
       "      <td>1</td>\n",
       "      <td>1</td>\n",
       "    </tr>\n",
       "    <tr>\n",
       "      <th>3</th>\n",
       "      <td>27</td>\n",
       "      <td>0</td>\n",
       "      <td>257124</td>\n",
       "      <td>9</td>\n",
       "      <td>13</td>\n",
       "      <td>4</td>\n",
       "      <td>13</td>\n",
       "      <td>2</td>\n",
       "      <td>4</td>\n",
       "      <td>1</td>\n",
       "      <td>0</td>\n",
       "      <td>0</td>\n",
       "      <td>35</td>\n",
       "      <td>37</td>\n",
       "      <td>1</td>\n",
       "      <td>1</td>\n",
       "    </tr>\n",
       "    <tr>\n",
       "      <th>4</th>\n",
       "      <td>21</td>\n",
       "      <td>3</td>\n",
       "      <td>256278</td>\n",
       "      <td>11</td>\n",
       "      <td>9</td>\n",
       "      <td>4</td>\n",
       "      <td>7</td>\n",
       "      <td>2</td>\n",
       "      <td>3</td>\n",
       "      <td>0</td>\n",
       "      <td>0</td>\n",
       "      <td>0</td>\n",
       "      <td>35</td>\n",
       "      <td>7</td>\n",
       "      <td>1</td>\n",
       "      <td>1</td>\n",
       "    </tr>\n",
       "  </tbody>\n",
       "</table>\n",
       "</div>"
      ],
      "text/plain": [
       "   Age  WorkClass  FinalWeight  Education  EducationLvl  MaritalStatus  \\\n",
       "0   57          5       152030         15            10              2   \n",
       "1   35          3       341643          9            13              4   \n",
       "2   26          3        40915          9            13              4   \n",
       "3   27          0       257124          9            13              4   \n",
       "4   21          3       256278         11             9              4   \n",
       "\n",
       "   Occupation  Relationship  Race  Sex  CapitalGain  CapitalLoss  \\\n",
       "0          11             5     4    0            0            0   \n",
       "1           7             2     4    1            0            0   \n",
       "2           7             1     4    0            0            0   \n",
       "3          13             2     4    1            0            0   \n",
       "4           7             2     3    0            0            0   \n",
       "\n",
       "   HoursPerWeek  NativeCountry  IncomeBracket  AgeBracket  \n",
       "0            25             37              0           4  \n",
       "1            50             37              1           2  \n",
       "2            25             37              1           1  \n",
       "3            35             37              1           1  \n",
       "4            35              7              1           1  "
      ]
     },
     "execution_count": 27,
     "metadata": {},
     "output_type": "execute_result"
    }
   ],
   "source": [
    "clean_test.head()"
   ]
  },
  {
   "cell_type": "markdown",
   "metadata": {},
   "source": [
    "#### 3.1.2 Create Work Hours Bracket"
   ]
  },
  {
   "cell_type": "markdown",
   "metadata": {},
   "source": [
    "Create work hours bracket by dividing hours per week into 4 groups: 0-30(0), 31-50(1), 51-70(2), 71-100(3). First create a dictionary with keys = continuous hours per week and values = group numbers (0,1,2,3) that correspond to hours per week:"
   ]
  },
  {
   "cell_type": "code",
   "execution_count": 28,
   "metadata": {
    "collapsed": true
   },
   "outputs": [],
   "source": [
    "hour_group = 0\n",
    "hour_mark = 31\n",
    "hour_list = []\n",
    "hour_grouped = []\n",
    "for i in range(0,100):\n",
    "    hour_list.append(i)\n",
    "    if i < hour_mark:\n",
    "        hour_grouped.append(hour_group)\n",
    "    elif i < 71:\n",
    "        hour_group += 1\n",
    "        hour_mark += 20\n",
    "        hour_grouped.append(hour_group)\n",
    "    else:\n",
    "        hour_grouped.append(3)"
   ]
  },
  {
   "cell_type": "code",
   "execution_count": 29,
   "metadata": {
    "collapsed": true
   },
   "outputs": [],
   "source": [
    "hours_dict = dict(zip(hour_list, hour_grouped))"
   ]
  },
  {
   "cell_type": "markdown",
   "metadata": {},
   "source": [
    "Use `hours_dict` to map HoursPerWeek to HoursBracket and add HoursBracket as a new column to the dataframe:"
   ]
  },
  {
   "cell_type": "code",
   "execution_count": 30,
   "metadata": {
    "collapsed": true
   },
   "outputs": [],
   "source": [
    "def group_hours(df):\n",
    "    HoursBracket = []\n",
    "    for index, row in df.iterrows():\n",
    "        for key, value in hours_dict.items():\n",
    "            if row['HoursPerWeek'] == key:\n",
    "                HoursBracket.append(value)\n",
    "    return HoursBracket"
   ]
  },
  {
   "cell_type": "code",
   "execution_count": 31,
   "metadata": {
    "collapsed": true
   },
   "outputs": [],
   "source": [
    "clean_train['HoursBracket'] = group_hours(clean_train)\n",
    "clean_test['HoursBracket'] = group_hours(clean_test)"
   ]
  },
  {
   "cell_type": "code",
   "execution_count": 32,
   "metadata": {},
   "outputs": [
    {
     "data": {
      "text/html": [
       "<div>\n",
       "<style>\n",
       "    .dataframe thead tr:only-child th {\n",
       "        text-align: right;\n",
       "    }\n",
       "\n",
       "    .dataframe thead th {\n",
       "        text-align: left;\n",
       "    }\n",
       "\n",
       "    .dataframe tbody tr th {\n",
       "        vertical-align: top;\n",
       "    }\n",
       "</style>\n",
       "<table border=\"1\" class=\"dataframe\">\n",
       "  <thead>\n",
       "    <tr style=\"text-align: right;\">\n",
       "      <th></th>\n",
       "      <th>Age</th>\n",
       "      <th>WorkClass</th>\n",
       "      <th>FinalWeight</th>\n",
       "      <th>Education</th>\n",
       "      <th>EducationLvl</th>\n",
       "      <th>MaritalStatus</th>\n",
       "      <th>Occupation</th>\n",
       "      <th>Relationship</th>\n",
       "      <th>Race</th>\n",
       "      <th>Sex</th>\n",
       "      <th>CapitalGain</th>\n",
       "      <th>CapitalLoss</th>\n",
       "      <th>HoursPerWeek</th>\n",
       "      <th>NativeCountry</th>\n",
       "      <th>IncomeBracket</th>\n",
       "      <th>AgeBracket</th>\n",
       "      <th>HoursBracket</th>\n",
       "    </tr>\n",
       "  </thead>\n",
       "  <tbody>\n",
       "    <tr>\n",
       "      <th>0</th>\n",
       "      <td>42</td>\n",
       "      <td>6</td>\n",
       "      <td>179151</td>\n",
       "      <td>15</td>\n",
       "      <td>10</td>\n",
       "      <td>2</td>\n",
       "      <td>4</td>\n",
       "      <td>0</td>\n",
       "      <td>4</td>\n",
       "      <td>1</td>\n",
       "      <td>0</td>\n",
       "      <td>0</td>\n",
       "      <td>40</td>\n",
       "      <td>38</td>\n",
       "      <td>1</td>\n",
       "      <td>3</td>\n",
       "      <td>1</td>\n",
       "    </tr>\n",
       "    <tr>\n",
       "      <th>1</th>\n",
       "      <td>28</td>\n",
       "      <td>3</td>\n",
       "      <td>68021</td>\n",
       "      <td>15</td>\n",
       "      <td>10</td>\n",
       "      <td>4</td>\n",
       "      <td>7</td>\n",
       "      <td>1</td>\n",
       "      <td>4</td>\n",
       "      <td>0</td>\n",
       "      <td>0</td>\n",
       "      <td>0</td>\n",
       "      <td>30</td>\n",
       "      <td>38</td>\n",
       "      <td>1</td>\n",
       "      <td>1</td>\n",
       "      <td>0</td>\n",
       "    </tr>\n",
       "    <tr>\n",
       "      <th>2</th>\n",
       "      <td>24</td>\n",
       "      <td>3</td>\n",
       "      <td>233499</td>\n",
       "      <td>15</td>\n",
       "      <td>10</td>\n",
       "      <td>2</td>\n",
       "      <td>13</td>\n",
       "      <td>0</td>\n",
       "      <td>4</td>\n",
       "      <td>1</td>\n",
       "      <td>0</td>\n",
       "      <td>0</td>\n",
       "      <td>40</td>\n",
       "      <td>38</td>\n",
       "      <td>0</td>\n",
       "      <td>1</td>\n",
       "      <td>1</td>\n",
       "    </tr>\n",
       "    <tr>\n",
       "      <th>3</th>\n",
       "      <td>32</td>\n",
       "      <td>5</td>\n",
       "      <td>168782</td>\n",
       "      <td>6</td>\n",
       "      <td>5</td>\n",
       "      <td>2</td>\n",
       "      <td>2</td>\n",
       "      <td>0</td>\n",
       "      <td>4</td>\n",
       "      <td>1</td>\n",
       "      <td>0</td>\n",
       "      <td>0</td>\n",
       "      <td>32</td>\n",
       "      <td>38</td>\n",
       "      <td>1</td>\n",
       "      <td>2</td>\n",
       "      <td>1</td>\n",
       "    </tr>\n",
       "    <tr>\n",
       "      <th>4</th>\n",
       "      <td>55</td>\n",
       "      <td>5</td>\n",
       "      <td>105582</td>\n",
       "      <td>12</td>\n",
       "      <td>14</td>\n",
       "      <td>2</td>\n",
       "      <td>11</td>\n",
       "      <td>0</td>\n",
       "      <td>4</td>\n",
       "      <td>1</td>\n",
       "      <td>2228</td>\n",
       "      <td>0</td>\n",
       "      <td>50</td>\n",
       "      <td>38</td>\n",
       "      <td>1</td>\n",
       "      <td>4</td>\n",
       "      <td>1</td>\n",
       "    </tr>\n",
       "  </tbody>\n",
       "</table>\n",
       "</div>"
      ],
      "text/plain": [
       "   Age  WorkClass  FinalWeight  Education  EducationLvl  MaritalStatus  \\\n",
       "0   42          6       179151         15            10              2   \n",
       "1   28          3        68021         15            10              4   \n",
       "2   24          3       233499         15            10              2   \n",
       "3   32          5       168782          6             5              2   \n",
       "4   55          5       105582         12            14              2   \n",
       "\n",
       "   Occupation  Relationship  Race  Sex  CapitalGain  CapitalLoss  \\\n",
       "0           4             0     4    1            0            0   \n",
       "1           7             1     4    0            0            0   \n",
       "2          13             0     4    1            0            0   \n",
       "3           2             0     4    1            0            0   \n",
       "4          11             0     4    1         2228            0   \n",
       "\n",
       "   HoursPerWeek  NativeCountry  IncomeBracket  AgeBracket  HoursBracket  \n",
       "0            40             38              1           3             1  \n",
       "1            30             38              1           1             0  \n",
       "2            40             38              0           1             1  \n",
       "3            32             38              1           2             1  \n",
       "4            50             38              1           4             1  "
      ]
     },
     "execution_count": 32,
     "metadata": {},
     "output_type": "execute_result"
    }
   ],
   "source": [
    "clean_train.head()"
   ]
  },
  {
   "cell_type": "code",
   "execution_count": 33,
   "metadata": {},
   "outputs": [
    {
     "data": {
      "text/html": [
       "<div>\n",
       "<style>\n",
       "    .dataframe thead tr:only-child th {\n",
       "        text-align: right;\n",
       "    }\n",
       "\n",
       "    .dataframe thead th {\n",
       "        text-align: left;\n",
       "    }\n",
       "\n",
       "    .dataframe tbody tr th {\n",
       "        vertical-align: top;\n",
       "    }\n",
       "</style>\n",
       "<table border=\"1\" class=\"dataframe\">\n",
       "  <thead>\n",
       "    <tr style=\"text-align: right;\">\n",
       "      <th></th>\n",
       "      <th>Age</th>\n",
       "      <th>WorkClass</th>\n",
       "      <th>FinalWeight</th>\n",
       "      <th>Education</th>\n",
       "      <th>EducationLvl</th>\n",
       "      <th>MaritalStatus</th>\n",
       "      <th>Occupation</th>\n",
       "      <th>Relationship</th>\n",
       "      <th>Race</th>\n",
       "      <th>Sex</th>\n",
       "      <th>CapitalGain</th>\n",
       "      <th>CapitalLoss</th>\n",
       "      <th>HoursPerWeek</th>\n",
       "      <th>NativeCountry</th>\n",
       "      <th>IncomeBracket</th>\n",
       "      <th>AgeBracket</th>\n",
       "      <th>HoursBracket</th>\n",
       "    </tr>\n",
       "  </thead>\n",
       "  <tbody>\n",
       "    <tr>\n",
       "      <th>0</th>\n",
       "      <td>57</td>\n",
       "      <td>5</td>\n",
       "      <td>152030</td>\n",
       "      <td>15</td>\n",
       "      <td>10</td>\n",
       "      <td>2</td>\n",
       "      <td>11</td>\n",
       "      <td>5</td>\n",
       "      <td>4</td>\n",
       "      <td>0</td>\n",
       "      <td>0</td>\n",
       "      <td>0</td>\n",
       "      <td>25</td>\n",
       "      <td>37</td>\n",
       "      <td>0</td>\n",
       "      <td>4</td>\n",
       "      <td>0</td>\n",
       "    </tr>\n",
       "    <tr>\n",
       "      <th>1</th>\n",
       "      <td>35</td>\n",
       "      <td>3</td>\n",
       "      <td>341643</td>\n",
       "      <td>9</td>\n",
       "      <td>13</td>\n",
       "      <td>4</td>\n",
       "      <td>7</td>\n",
       "      <td>2</td>\n",
       "      <td>4</td>\n",
       "      <td>1</td>\n",
       "      <td>0</td>\n",
       "      <td>0</td>\n",
       "      <td>50</td>\n",
       "      <td>37</td>\n",
       "      <td>1</td>\n",
       "      <td>2</td>\n",
       "      <td>1</td>\n",
       "    </tr>\n",
       "    <tr>\n",
       "      <th>2</th>\n",
       "      <td>26</td>\n",
       "      <td>3</td>\n",
       "      <td>40915</td>\n",
       "      <td>9</td>\n",
       "      <td>13</td>\n",
       "      <td>4</td>\n",
       "      <td>7</td>\n",
       "      <td>1</td>\n",
       "      <td>4</td>\n",
       "      <td>0</td>\n",
       "      <td>0</td>\n",
       "      <td>0</td>\n",
       "      <td>25</td>\n",
       "      <td>37</td>\n",
       "      <td>1</td>\n",
       "      <td>1</td>\n",
       "      <td>0</td>\n",
       "    </tr>\n",
       "    <tr>\n",
       "      <th>3</th>\n",
       "      <td>27</td>\n",
       "      <td>0</td>\n",
       "      <td>257124</td>\n",
       "      <td>9</td>\n",
       "      <td>13</td>\n",
       "      <td>4</td>\n",
       "      <td>13</td>\n",
       "      <td>2</td>\n",
       "      <td>4</td>\n",
       "      <td>1</td>\n",
       "      <td>0</td>\n",
       "      <td>0</td>\n",
       "      <td>35</td>\n",
       "      <td>37</td>\n",
       "      <td>1</td>\n",
       "      <td>1</td>\n",
       "      <td>1</td>\n",
       "    </tr>\n",
       "    <tr>\n",
       "      <th>4</th>\n",
       "      <td>21</td>\n",
       "      <td>3</td>\n",
       "      <td>256278</td>\n",
       "      <td>11</td>\n",
       "      <td>9</td>\n",
       "      <td>4</td>\n",
       "      <td>7</td>\n",
       "      <td>2</td>\n",
       "      <td>3</td>\n",
       "      <td>0</td>\n",
       "      <td>0</td>\n",
       "      <td>0</td>\n",
       "      <td>35</td>\n",
       "      <td>7</td>\n",
       "      <td>1</td>\n",
       "      <td>1</td>\n",
       "      <td>1</td>\n",
       "    </tr>\n",
       "  </tbody>\n",
       "</table>\n",
       "</div>"
      ],
      "text/plain": [
       "   Age  WorkClass  FinalWeight  Education  EducationLvl  MaritalStatus  \\\n",
       "0   57          5       152030         15            10              2   \n",
       "1   35          3       341643          9            13              4   \n",
       "2   26          3        40915          9            13              4   \n",
       "3   27          0       257124          9            13              4   \n",
       "4   21          3       256278         11             9              4   \n",
       "\n",
       "   Occupation  Relationship  Race  Sex  CapitalGain  CapitalLoss  \\\n",
       "0          11             5     4    0            0            0   \n",
       "1           7             2     4    1            0            0   \n",
       "2           7             1     4    0            0            0   \n",
       "3          13             2     4    1            0            0   \n",
       "4           7             2     3    0            0            0   \n",
       "\n",
       "   HoursPerWeek  NativeCountry  IncomeBracket  AgeBracket  HoursBracket  \n",
       "0            25             37              0           4             0  \n",
       "1            50             37              1           2             1  \n",
       "2            25             37              1           1             0  \n",
       "3            35             37              1           1             1  \n",
       "4            35              7              1           1             1  "
      ]
     },
     "execution_count": 33,
     "metadata": {},
     "output_type": "execute_result"
    }
   ],
   "source": [
    "clean_test.head()"
   ]
  },
  {
   "cell_type": "markdown",
   "metadata": {},
   "source": [
    "#### 3.1.3 Create Investment Class"
   ]
  },
  {
   "cell_type": "markdown",
   "metadata": {},
   "source": [
    "Combine CapitalGain and CapitalLoss into one feautre - Investiment Class, which contains the following: \n",
    "- good investment (2): if the sample has CapitalGain and no (zero) CapitalLoss\n",
    "- no investment (1): if the sample has neither CapitalGain nor CapitalLoss\n",
    "- bad investment(0): if the sample has CapitalLoss and no (zero) CapitalGain"
   ]
  },
  {
   "cell_type": "code",
   "execution_count": 34,
   "metadata": {
    "collapsed": true
   },
   "outputs": [],
   "source": [
    "def create_investment(df):\n",
    "    Investment = []\n",
    "    for index, row in df.iterrows():\n",
    "            if row['CapitalGain'] != 0 and row['CapitalLoss'] == 0:\n",
    "                Investment.append(2)\n",
    "            elif row['CapitalGain'] == 0 and row['CapitalLoss'] != 0:\n",
    "                Investment.append(0)\n",
    "            else: \n",
    "                Investment.append(1)\n",
    "    return Investment"
   ]
  },
  {
   "cell_type": "code",
   "execution_count": 35,
   "metadata": {
    "collapsed": true
   },
   "outputs": [],
   "source": [
    "clean_train['Investment'] = create_investment(clean_train)\n",
    "clean_test['Investment'] = create_investment(clean_test)"
   ]
  },
  {
   "cell_type": "code",
   "execution_count": 36,
   "metadata": {},
   "outputs": [
    {
     "data": {
      "text/html": [
       "<div>\n",
       "<style>\n",
       "    .dataframe thead tr:only-child th {\n",
       "        text-align: right;\n",
       "    }\n",
       "\n",
       "    .dataframe thead th {\n",
       "        text-align: left;\n",
       "    }\n",
       "\n",
       "    .dataframe tbody tr th {\n",
       "        vertical-align: top;\n",
       "    }\n",
       "</style>\n",
       "<table border=\"1\" class=\"dataframe\">\n",
       "  <thead>\n",
       "    <tr style=\"text-align: right;\">\n",
       "      <th></th>\n",
       "      <th>Age</th>\n",
       "      <th>WorkClass</th>\n",
       "      <th>FinalWeight</th>\n",
       "      <th>Education</th>\n",
       "      <th>EducationLvl</th>\n",
       "      <th>MaritalStatus</th>\n",
       "      <th>Occupation</th>\n",
       "      <th>Relationship</th>\n",
       "      <th>Race</th>\n",
       "      <th>Sex</th>\n",
       "      <th>CapitalGain</th>\n",
       "      <th>CapitalLoss</th>\n",
       "      <th>HoursPerWeek</th>\n",
       "      <th>NativeCountry</th>\n",
       "      <th>IncomeBracket</th>\n",
       "      <th>AgeBracket</th>\n",
       "      <th>HoursBracket</th>\n",
       "      <th>Investment</th>\n",
       "    </tr>\n",
       "  </thead>\n",
       "  <tbody>\n",
       "    <tr>\n",
       "      <th>0</th>\n",
       "      <td>42</td>\n",
       "      <td>6</td>\n",
       "      <td>179151</td>\n",
       "      <td>15</td>\n",
       "      <td>10</td>\n",
       "      <td>2</td>\n",
       "      <td>4</td>\n",
       "      <td>0</td>\n",
       "      <td>4</td>\n",
       "      <td>1</td>\n",
       "      <td>0</td>\n",
       "      <td>0</td>\n",
       "      <td>40</td>\n",
       "      <td>38</td>\n",
       "      <td>1</td>\n",
       "      <td>3</td>\n",
       "      <td>1</td>\n",
       "      <td>1</td>\n",
       "    </tr>\n",
       "    <tr>\n",
       "      <th>1</th>\n",
       "      <td>28</td>\n",
       "      <td>3</td>\n",
       "      <td>68021</td>\n",
       "      <td>15</td>\n",
       "      <td>10</td>\n",
       "      <td>4</td>\n",
       "      <td>7</td>\n",
       "      <td>1</td>\n",
       "      <td>4</td>\n",
       "      <td>0</td>\n",
       "      <td>0</td>\n",
       "      <td>0</td>\n",
       "      <td>30</td>\n",
       "      <td>38</td>\n",
       "      <td>1</td>\n",
       "      <td>1</td>\n",
       "      <td>0</td>\n",
       "      <td>1</td>\n",
       "    </tr>\n",
       "    <tr>\n",
       "      <th>2</th>\n",
       "      <td>24</td>\n",
       "      <td>3</td>\n",
       "      <td>233499</td>\n",
       "      <td>15</td>\n",
       "      <td>10</td>\n",
       "      <td>2</td>\n",
       "      <td>13</td>\n",
       "      <td>0</td>\n",
       "      <td>4</td>\n",
       "      <td>1</td>\n",
       "      <td>0</td>\n",
       "      <td>0</td>\n",
       "      <td>40</td>\n",
       "      <td>38</td>\n",
       "      <td>0</td>\n",
       "      <td>1</td>\n",
       "      <td>1</td>\n",
       "      <td>1</td>\n",
       "    </tr>\n",
       "    <tr>\n",
       "      <th>3</th>\n",
       "      <td>32</td>\n",
       "      <td>5</td>\n",
       "      <td>168782</td>\n",
       "      <td>6</td>\n",
       "      <td>5</td>\n",
       "      <td>2</td>\n",
       "      <td>2</td>\n",
       "      <td>0</td>\n",
       "      <td>4</td>\n",
       "      <td>1</td>\n",
       "      <td>0</td>\n",
       "      <td>0</td>\n",
       "      <td>32</td>\n",
       "      <td>38</td>\n",
       "      <td>1</td>\n",
       "      <td>2</td>\n",
       "      <td>1</td>\n",
       "      <td>1</td>\n",
       "    </tr>\n",
       "    <tr>\n",
       "      <th>4</th>\n",
       "      <td>55</td>\n",
       "      <td>5</td>\n",
       "      <td>105582</td>\n",
       "      <td>12</td>\n",
       "      <td>14</td>\n",
       "      <td>2</td>\n",
       "      <td>11</td>\n",
       "      <td>0</td>\n",
       "      <td>4</td>\n",
       "      <td>1</td>\n",
       "      <td>2228</td>\n",
       "      <td>0</td>\n",
       "      <td>50</td>\n",
       "      <td>38</td>\n",
       "      <td>1</td>\n",
       "      <td>4</td>\n",
       "      <td>1</td>\n",
       "      <td>2</td>\n",
       "    </tr>\n",
       "  </tbody>\n",
       "</table>\n",
       "</div>"
      ],
      "text/plain": [
       "   Age  WorkClass  FinalWeight  Education  EducationLvl  MaritalStatus  \\\n",
       "0   42          6       179151         15            10              2   \n",
       "1   28          3        68021         15            10              4   \n",
       "2   24          3       233499         15            10              2   \n",
       "3   32          5       168782          6             5              2   \n",
       "4   55          5       105582         12            14              2   \n",
       "\n",
       "   Occupation  Relationship  Race  Sex  CapitalGain  CapitalLoss  \\\n",
       "0           4             0     4    1            0            0   \n",
       "1           7             1     4    0            0            0   \n",
       "2          13             0     4    1            0            0   \n",
       "3           2             0     4    1            0            0   \n",
       "4          11             0     4    1         2228            0   \n",
       "\n",
       "   HoursPerWeek  NativeCountry  IncomeBracket  AgeBracket  HoursBracket  \\\n",
       "0            40             38              1           3             1   \n",
       "1            30             38              1           1             0   \n",
       "2            40             38              0           1             1   \n",
       "3            32             38              1           2             1   \n",
       "4            50             38              1           4             1   \n",
       "\n",
       "   Investment  \n",
       "0           1  \n",
       "1           1  \n",
       "2           1  \n",
       "3           1  \n",
       "4           2  "
      ]
     },
     "execution_count": 36,
     "metadata": {},
     "output_type": "execute_result"
    }
   ],
   "source": [
    "clean_train.head()"
   ]
  },
  {
   "cell_type": "code",
   "execution_count": 37,
   "metadata": {},
   "outputs": [
    {
     "data": {
      "text/html": [
       "<div>\n",
       "<style>\n",
       "    .dataframe thead tr:only-child th {\n",
       "        text-align: right;\n",
       "    }\n",
       "\n",
       "    .dataframe thead th {\n",
       "        text-align: left;\n",
       "    }\n",
       "\n",
       "    .dataframe tbody tr th {\n",
       "        vertical-align: top;\n",
       "    }\n",
       "</style>\n",
       "<table border=\"1\" class=\"dataframe\">\n",
       "  <thead>\n",
       "    <tr style=\"text-align: right;\">\n",
       "      <th></th>\n",
       "      <th>Age</th>\n",
       "      <th>WorkClass</th>\n",
       "      <th>FinalWeight</th>\n",
       "      <th>Education</th>\n",
       "      <th>EducationLvl</th>\n",
       "      <th>MaritalStatus</th>\n",
       "      <th>Occupation</th>\n",
       "      <th>Relationship</th>\n",
       "      <th>Race</th>\n",
       "      <th>Sex</th>\n",
       "      <th>CapitalGain</th>\n",
       "      <th>CapitalLoss</th>\n",
       "      <th>HoursPerWeek</th>\n",
       "      <th>NativeCountry</th>\n",
       "      <th>IncomeBracket</th>\n",
       "      <th>AgeBracket</th>\n",
       "      <th>HoursBracket</th>\n",
       "      <th>Investment</th>\n",
       "    </tr>\n",
       "  </thead>\n",
       "  <tbody>\n",
       "    <tr>\n",
       "      <th>0</th>\n",
       "      <td>57</td>\n",
       "      <td>5</td>\n",
       "      <td>152030</td>\n",
       "      <td>15</td>\n",
       "      <td>10</td>\n",
       "      <td>2</td>\n",
       "      <td>11</td>\n",
       "      <td>5</td>\n",
       "      <td>4</td>\n",
       "      <td>0</td>\n",
       "      <td>0</td>\n",
       "      <td>0</td>\n",
       "      <td>25</td>\n",
       "      <td>37</td>\n",
       "      <td>0</td>\n",
       "      <td>4</td>\n",
       "      <td>0</td>\n",
       "      <td>1</td>\n",
       "    </tr>\n",
       "    <tr>\n",
       "      <th>1</th>\n",
       "      <td>35</td>\n",
       "      <td>3</td>\n",
       "      <td>341643</td>\n",
       "      <td>9</td>\n",
       "      <td>13</td>\n",
       "      <td>4</td>\n",
       "      <td>7</td>\n",
       "      <td>2</td>\n",
       "      <td>4</td>\n",
       "      <td>1</td>\n",
       "      <td>0</td>\n",
       "      <td>0</td>\n",
       "      <td>50</td>\n",
       "      <td>37</td>\n",
       "      <td>1</td>\n",
       "      <td>2</td>\n",
       "      <td>1</td>\n",
       "      <td>1</td>\n",
       "    </tr>\n",
       "    <tr>\n",
       "      <th>2</th>\n",
       "      <td>26</td>\n",
       "      <td>3</td>\n",
       "      <td>40915</td>\n",
       "      <td>9</td>\n",
       "      <td>13</td>\n",
       "      <td>4</td>\n",
       "      <td>7</td>\n",
       "      <td>1</td>\n",
       "      <td>4</td>\n",
       "      <td>0</td>\n",
       "      <td>0</td>\n",
       "      <td>0</td>\n",
       "      <td>25</td>\n",
       "      <td>37</td>\n",
       "      <td>1</td>\n",
       "      <td>1</td>\n",
       "      <td>0</td>\n",
       "      <td>1</td>\n",
       "    </tr>\n",
       "    <tr>\n",
       "      <th>3</th>\n",
       "      <td>27</td>\n",
       "      <td>0</td>\n",
       "      <td>257124</td>\n",
       "      <td>9</td>\n",
       "      <td>13</td>\n",
       "      <td>4</td>\n",
       "      <td>13</td>\n",
       "      <td>2</td>\n",
       "      <td>4</td>\n",
       "      <td>1</td>\n",
       "      <td>0</td>\n",
       "      <td>0</td>\n",
       "      <td>35</td>\n",
       "      <td>37</td>\n",
       "      <td>1</td>\n",
       "      <td>1</td>\n",
       "      <td>1</td>\n",
       "      <td>1</td>\n",
       "    </tr>\n",
       "    <tr>\n",
       "      <th>4</th>\n",
       "      <td>21</td>\n",
       "      <td>3</td>\n",
       "      <td>256278</td>\n",
       "      <td>11</td>\n",
       "      <td>9</td>\n",
       "      <td>4</td>\n",
       "      <td>7</td>\n",
       "      <td>2</td>\n",
       "      <td>3</td>\n",
       "      <td>0</td>\n",
       "      <td>0</td>\n",
       "      <td>0</td>\n",
       "      <td>35</td>\n",
       "      <td>7</td>\n",
       "      <td>1</td>\n",
       "      <td>1</td>\n",
       "      <td>1</td>\n",
       "      <td>1</td>\n",
       "    </tr>\n",
       "  </tbody>\n",
       "</table>\n",
       "</div>"
      ],
      "text/plain": [
       "   Age  WorkClass  FinalWeight  Education  EducationLvl  MaritalStatus  \\\n",
       "0   57          5       152030         15            10              2   \n",
       "1   35          3       341643          9            13              4   \n",
       "2   26          3        40915          9            13              4   \n",
       "3   27          0       257124          9            13              4   \n",
       "4   21          3       256278         11             9              4   \n",
       "\n",
       "   Occupation  Relationship  Race  Sex  CapitalGain  CapitalLoss  \\\n",
       "0          11             5     4    0            0            0   \n",
       "1           7             2     4    1            0            0   \n",
       "2           7             1     4    0            0            0   \n",
       "3          13             2     4    1            0            0   \n",
       "4           7             2     3    0            0            0   \n",
       "\n",
       "   HoursPerWeek  NativeCountry  IncomeBracket  AgeBracket  HoursBracket  \\\n",
       "0            25             37              0           4             0   \n",
       "1            50             37              1           2             1   \n",
       "2            25             37              1           1             0   \n",
       "3            35             37              1           1             1   \n",
       "4            35              7              1           1             1   \n",
       "\n",
       "   Investment  \n",
       "0           1  \n",
       "1           1  \n",
       "2           1  \n",
       "3           1  \n",
       "4           1  "
      ]
     },
     "execution_count": 37,
     "metadata": {},
     "output_type": "execute_result"
    }
   ],
   "source": [
    "clean_test.head()"
   ]
  },
  {
   "cell_type": "markdown",
   "metadata": {},
   "source": [
    "### 3.2 Feature Selection Result"
   ]
  },
  {
   "cell_type": "markdown",
   "metadata": {},
   "source": [
    "Based on previous discussions, the important features selected for future analysis are: AgeBracket, EducationLvl, Occupation, Relationship, Sex, Investment and HoursBracket."
   ]
  },
  {
   "cell_type": "code",
   "execution_count": 38,
   "metadata": {
    "collapsed": true
   },
   "outputs": [],
   "source": [
    "new_train = clean_train[['AgeBracket', 'EducationLvl', 'Occupation', 'Relationship', 'Sex', 'Investment', 'HoursBracket', 'IncomeBracket']].copy()\n",
    "new_test = clean_test[['AgeBracket', 'EducationLvl', 'Occupation', 'Relationship', 'Sex', 'Investment', 'HoursBracket', 'IncomeBracket']].copy()"
   ]
  },
  {
   "cell_type": "code",
   "execution_count": 39,
   "metadata": {},
   "outputs": [
    {
     "data": {
      "text/html": [
       "<div>\n",
       "<style>\n",
       "    .dataframe thead tr:only-child th {\n",
       "        text-align: right;\n",
       "    }\n",
       "\n",
       "    .dataframe thead th {\n",
       "        text-align: left;\n",
       "    }\n",
       "\n",
       "    .dataframe tbody tr th {\n",
       "        vertical-align: top;\n",
       "    }\n",
       "</style>\n",
       "<table border=\"1\" class=\"dataframe\">\n",
       "  <thead>\n",
       "    <tr style=\"text-align: right;\">\n",
       "      <th></th>\n",
       "      <th>AgeBracket</th>\n",
       "      <th>EducationLvl</th>\n",
       "      <th>Occupation</th>\n",
       "      <th>Relationship</th>\n",
       "      <th>Sex</th>\n",
       "      <th>Investment</th>\n",
       "      <th>HoursBracket</th>\n",
       "      <th>IncomeBracket</th>\n",
       "    </tr>\n",
       "  </thead>\n",
       "  <tbody>\n",
       "    <tr>\n",
       "      <th>0</th>\n",
       "      <td>3</td>\n",
       "      <td>10</td>\n",
       "      <td>4</td>\n",
       "      <td>0</td>\n",
       "      <td>1</td>\n",
       "      <td>1</td>\n",
       "      <td>1</td>\n",
       "      <td>1</td>\n",
       "    </tr>\n",
       "    <tr>\n",
       "      <th>1</th>\n",
       "      <td>1</td>\n",
       "      <td>10</td>\n",
       "      <td>7</td>\n",
       "      <td>1</td>\n",
       "      <td>0</td>\n",
       "      <td>1</td>\n",
       "      <td>0</td>\n",
       "      <td>1</td>\n",
       "    </tr>\n",
       "    <tr>\n",
       "      <th>2</th>\n",
       "      <td>1</td>\n",
       "      <td>10</td>\n",
       "      <td>13</td>\n",
       "      <td>0</td>\n",
       "      <td>1</td>\n",
       "      <td>1</td>\n",
       "      <td>1</td>\n",
       "      <td>0</td>\n",
       "    </tr>\n",
       "    <tr>\n",
       "      <th>3</th>\n",
       "      <td>2</td>\n",
       "      <td>5</td>\n",
       "      <td>2</td>\n",
       "      <td>0</td>\n",
       "      <td>1</td>\n",
       "      <td>1</td>\n",
       "      <td>1</td>\n",
       "      <td>1</td>\n",
       "    </tr>\n",
       "    <tr>\n",
       "      <th>4</th>\n",
       "      <td>4</td>\n",
       "      <td>14</td>\n",
       "      <td>11</td>\n",
       "      <td>0</td>\n",
       "      <td>1</td>\n",
       "      <td>2</td>\n",
       "      <td>1</td>\n",
       "      <td>1</td>\n",
       "    </tr>\n",
       "  </tbody>\n",
       "</table>\n",
       "</div>"
      ],
      "text/plain": [
       "   AgeBracket  EducationLvl  Occupation  Relationship  Sex  Investment  \\\n",
       "0           3            10           4             0    1           1   \n",
       "1           1            10           7             1    0           1   \n",
       "2           1            10          13             0    1           1   \n",
       "3           2             5           2             0    1           1   \n",
       "4           4            14          11             0    1           2   \n",
       "\n",
       "   HoursBracket  IncomeBracket  \n",
       "0             1              1  \n",
       "1             0              1  \n",
       "2             1              0  \n",
       "3             1              1  \n",
       "4             1              1  "
      ]
     },
     "execution_count": 39,
     "metadata": {},
     "output_type": "execute_result"
    }
   ],
   "source": [
    "new_train.head()"
   ]
  },
  {
   "cell_type": "code",
   "execution_count": 40,
   "metadata": {},
   "outputs": [
    {
     "data": {
      "text/html": [
       "<div>\n",
       "<style>\n",
       "    .dataframe thead tr:only-child th {\n",
       "        text-align: right;\n",
       "    }\n",
       "\n",
       "    .dataframe thead th {\n",
       "        text-align: left;\n",
       "    }\n",
       "\n",
       "    .dataframe tbody tr th {\n",
       "        vertical-align: top;\n",
       "    }\n",
       "</style>\n",
       "<table border=\"1\" class=\"dataframe\">\n",
       "  <thead>\n",
       "    <tr style=\"text-align: right;\">\n",
       "      <th></th>\n",
       "      <th>AgeBracket</th>\n",
       "      <th>EducationLvl</th>\n",
       "      <th>Occupation</th>\n",
       "      <th>Relationship</th>\n",
       "      <th>Sex</th>\n",
       "      <th>Investment</th>\n",
       "      <th>HoursBracket</th>\n",
       "      <th>IncomeBracket</th>\n",
       "    </tr>\n",
       "  </thead>\n",
       "  <tbody>\n",
       "    <tr>\n",
       "      <th>0</th>\n",
       "      <td>4</td>\n",
       "      <td>10</td>\n",
       "      <td>11</td>\n",
       "      <td>5</td>\n",
       "      <td>0</td>\n",
       "      <td>1</td>\n",
       "      <td>0</td>\n",
       "      <td>0</td>\n",
       "    </tr>\n",
       "    <tr>\n",
       "      <th>1</th>\n",
       "      <td>2</td>\n",
       "      <td>13</td>\n",
       "      <td>7</td>\n",
       "      <td>2</td>\n",
       "      <td>1</td>\n",
       "      <td>1</td>\n",
       "      <td>1</td>\n",
       "      <td>1</td>\n",
       "    </tr>\n",
       "    <tr>\n",
       "      <th>2</th>\n",
       "      <td>1</td>\n",
       "      <td>13</td>\n",
       "      <td>7</td>\n",
       "      <td>1</td>\n",
       "      <td>0</td>\n",
       "      <td>1</td>\n",
       "      <td>0</td>\n",
       "      <td>1</td>\n",
       "    </tr>\n",
       "    <tr>\n",
       "      <th>3</th>\n",
       "      <td>1</td>\n",
       "      <td>13</td>\n",
       "      <td>13</td>\n",
       "      <td>2</td>\n",
       "      <td>1</td>\n",
       "      <td>1</td>\n",
       "      <td>1</td>\n",
       "      <td>1</td>\n",
       "    </tr>\n",
       "    <tr>\n",
       "      <th>4</th>\n",
       "      <td>1</td>\n",
       "      <td>9</td>\n",
       "      <td>7</td>\n",
       "      <td>2</td>\n",
       "      <td>0</td>\n",
       "      <td>1</td>\n",
       "      <td>1</td>\n",
       "      <td>1</td>\n",
       "    </tr>\n",
       "  </tbody>\n",
       "</table>\n",
       "</div>"
      ],
      "text/plain": [
       "   AgeBracket  EducationLvl  Occupation  Relationship  Sex  Investment  \\\n",
       "0           4            10          11             5    0           1   \n",
       "1           2            13           7             2    1           1   \n",
       "2           1            13           7             1    0           1   \n",
       "3           1            13          13             2    1           1   \n",
       "4           1             9           7             2    0           1   \n",
       "\n",
       "   HoursBracket  IncomeBracket  \n",
       "0             0              0  \n",
       "1             1              1  \n",
       "2             0              1  \n",
       "3             1              1  \n",
       "4             1              1  "
      ]
     },
     "execution_count": 40,
     "metadata": {},
     "output_type": "execute_result"
    }
   ],
   "source": [
    "new_test.head()"
   ]
  },
  {
   "cell_type": "code",
   "execution_count": 41,
   "metadata": {
    "collapsed": true
   },
   "outputs": [],
   "source": [
    "new_train_x = new_train[new_train.columns[0:7]]\n",
    "new_train_y = new_train[new_train.columns[7]]\n",
    "new_test_x = new_test[new_test.columns[0:7]]\n",
    "new_test_y = new_test[new_test.columns[7]]"
   ]
  },
  {
   "cell_type": "code",
   "execution_count": 42,
   "metadata": {},
   "outputs": [
    {
     "data": {
      "text/html": [
       "<div>\n",
       "<style>\n",
       "    .dataframe thead tr:only-child th {\n",
       "        text-align: right;\n",
       "    }\n",
       "\n",
       "    .dataframe thead th {\n",
       "        text-align: left;\n",
       "    }\n",
       "\n",
       "    .dataframe tbody tr th {\n",
       "        vertical-align: top;\n",
       "    }\n",
       "</style>\n",
       "<table border=\"1\" class=\"dataframe\">\n",
       "  <thead>\n",
       "    <tr style=\"text-align: right;\">\n",
       "      <th></th>\n",
       "      <th>AgeBracket</th>\n",
       "      <th>EducationLvl</th>\n",
       "      <th>Occupation</th>\n",
       "      <th>Relationship</th>\n",
       "      <th>Sex</th>\n",
       "      <th>Investment</th>\n",
       "      <th>HoursBracket</th>\n",
       "    </tr>\n",
       "  </thead>\n",
       "  <tbody>\n",
       "    <tr>\n",
       "      <th>0</th>\n",
       "      <td>3</td>\n",
       "      <td>10</td>\n",
       "      <td>4</td>\n",
       "      <td>0</td>\n",
       "      <td>1</td>\n",
       "      <td>1</td>\n",
       "      <td>1</td>\n",
       "    </tr>\n",
       "    <tr>\n",
       "      <th>1</th>\n",
       "      <td>1</td>\n",
       "      <td>10</td>\n",
       "      <td>7</td>\n",
       "      <td>1</td>\n",
       "      <td>0</td>\n",
       "      <td>1</td>\n",
       "      <td>0</td>\n",
       "    </tr>\n",
       "    <tr>\n",
       "      <th>2</th>\n",
       "      <td>1</td>\n",
       "      <td>10</td>\n",
       "      <td>13</td>\n",
       "      <td>0</td>\n",
       "      <td>1</td>\n",
       "      <td>1</td>\n",
       "      <td>1</td>\n",
       "    </tr>\n",
       "    <tr>\n",
       "      <th>3</th>\n",
       "      <td>2</td>\n",
       "      <td>5</td>\n",
       "      <td>2</td>\n",
       "      <td>0</td>\n",
       "      <td>1</td>\n",
       "      <td>1</td>\n",
       "      <td>1</td>\n",
       "    </tr>\n",
       "    <tr>\n",
       "      <th>4</th>\n",
       "      <td>4</td>\n",
       "      <td>14</td>\n",
       "      <td>11</td>\n",
       "      <td>0</td>\n",
       "      <td>1</td>\n",
       "      <td>2</td>\n",
       "      <td>1</td>\n",
       "    </tr>\n",
       "  </tbody>\n",
       "</table>\n",
       "</div>"
      ],
      "text/plain": [
       "   AgeBracket  EducationLvl  Occupation  Relationship  Sex  Investment  \\\n",
       "0           3            10           4             0    1           1   \n",
       "1           1            10           7             1    0           1   \n",
       "2           1            10          13             0    1           1   \n",
       "3           2             5           2             0    1           1   \n",
       "4           4            14          11             0    1           2   \n",
       "\n",
       "   HoursBracket  \n",
       "0             1  \n",
       "1             0  \n",
       "2             1  \n",
       "3             1  \n",
       "4             1  "
      ]
     },
     "execution_count": 42,
     "metadata": {},
     "output_type": "execute_result"
    }
   ],
   "source": [
    "new_train_x.head()"
   ]
  },
  {
   "cell_type": "code",
   "execution_count": 43,
   "metadata": {},
   "outputs": [
    {
     "data": {
      "text/html": [
       "<div>\n",
       "<style>\n",
       "    .dataframe thead tr:only-child th {\n",
       "        text-align: right;\n",
       "    }\n",
       "\n",
       "    .dataframe thead th {\n",
       "        text-align: left;\n",
       "    }\n",
       "\n",
       "    .dataframe tbody tr th {\n",
       "        vertical-align: top;\n",
       "    }\n",
       "</style>\n",
       "<table border=\"1\" class=\"dataframe\">\n",
       "  <thead>\n",
       "    <tr style=\"text-align: right;\">\n",
       "      <th></th>\n",
       "      <th>AgeBracket</th>\n",
       "      <th>EducationLvl</th>\n",
       "      <th>Occupation</th>\n",
       "      <th>Relationship</th>\n",
       "      <th>Sex</th>\n",
       "      <th>Investment</th>\n",
       "      <th>HoursBracket</th>\n",
       "    </tr>\n",
       "  </thead>\n",
       "  <tbody>\n",
       "    <tr>\n",
       "      <th>0</th>\n",
       "      <td>4</td>\n",
       "      <td>10</td>\n",
       "      <td>11</td>\n",
       "      <td>5</td>\n",
       "      <td>0</td>\n",
       "      <td>1</td>\n",
       "      <td>0</td>\n",
       "    </tr>\n",
       "    <tr>\n",
       "      <th>1</th>\n",
       "      <td>2</td>\n",
       "      <td>13</td>\n",
       "      <td>7</td>\n",
       "      <td>2</td>\n",
       "      <td>1</td>\n",
       "      <td>1</td>\n",
       "      <td>1</td>\n",
       "    </tr>\n",
       "    <tr>\n",
       "      <th>2</th>\n",
       "      <td>1</td>\n",
       "      <td>13</td>\n",
       "      <td>7</td>\n",
       "      <td>1</td>\n",
       "      <td>0</td>\n",
       "      <td>1</td>\n",
       "      <td>0</td>\n",
       "    </tr>\n",
       "    <tr>\n",
       "      <th>3</th>\n",
       "      <td>1</td>\n",
       "      <td>13</td>\n",
       "      <td>13</td>\n",
       "      <td>2</td>\n",
       "      <td>1</td>\n",
       "      <td>1</td>\n",
       "      <td>1</td>\n",
       "    </tr>\n",
       "    <tr>\n",
       "      <th>4</th>\n",
       "      <td>1</td>\n",
       "      <td>9</td>\n",
       "      <td>7</td>\n",
       "      <td>2</td>\n",
       "      <td>0</td>\n",
       "      <td>1</td>\n",
       "      <td>1</td>\n",
       "    </tr>\n",
       "  </tbody>\n",
       "</table>\n",
       "</div>"
      ],
      "text/plain": [
       "   AgeBracket  EducationLvl  Occupation  Relationship  Sex  Investment  \\\n",
       "0           4            10          11             5    0           1   \n",
       "1           2            13           7             2    1           1   \n",
       "2           1            13           7             1    0           1   \n",
       "3           1            13          13             2    1           1   \n",
       "4           1             9           7             2    0           1   \n",
       "\n",
       "   HoursBracket  \n",
       "0             0  \n",
       "1             1  \n",
       "2             0  \n",
       "3             1  \n",
       "4             1  "
      ]
     },
     "execution_count": 43,
     "metadata": {},
     "output_type": "execute_result"
    }
   ],
   "source": [
    "new_test_x.head()"
   ]
  },
  {
   "cell_type": "markdown",
   "metadata": {},
   "source": [
    "## 4. Model Implementation"
   ]
  },
  {
   "cell_type": "markdown",
   "metadata": {},
   "source": [
    "This section uses four different classification methods to model the training data. The four models implemented are: Gradient Boosting (boosting), Random Forest Tree (bagging), Logistic Regression and MultiLayer Perceptron Neural Network Classifier:\n",
    "\n",
    "- Gradient Boosting is an ensemble method. Like other boosting methods, Gradient Boosting combines weak \"learners\" into a single strong learner in an iterative fashion. Multiple gradient classifiers are computed where each new classifier is trained on the previously failed sections. The advantage of Gradient Boosting method is that all weak learners work together to come up with a strong solution. Some drawbacks of Gradient Boosting include problems with overshooting.\n",
    "\n",
    "\n",
    "- Random Forest is also an ensemble method that builds multiple decision trees and merges them together to get a more accurate and stable prediction. Random Forrest algorithm brings extra randomness into the model when it is growing the trees. Instead of searching for the best feature while splitting a node, it searches for the best feature among a random subset of features, which creates a wide diversity and generally results in a better model. A disadvantage of Random Forrest is that it is also associated with overfitting problems.\n",
    "\n",
    "\n",
    "- Logistic Regression is a classification algorithm used to assign observations to a discrete set of classes. Instead of outputting continuous number values like Linear Regression, Logistic Regression transforms its output using the sigmoid function to return a probability value which can then be mapped to two or more discrete classes. Types of Logistic Regression include Binary (Pass/Fail), Multi (Cats, Dogs, Sheep) and Ordinal (Low, Medium, High)\n",
    "\n",
    "\n",
    "- Artificial neural networks are crude electronic networks of neurons based on the neural structure of the brain. They process records one at a time and learn by comparing their classification of the record with the known actual classification of the record. The errors from the initial classification of the first record is fed back into the network, and used to modify the networks algorithm for further iterations. The advantage of neural netowrks include he ability to learn and model non-linear and complex relationships while procssing information in a highly parallel way, and disadvantage being that high-diversity of training is required for real-world operation."
   ]
  },
  {
   "cell_type": "markdown",
   "metadata": {},
   "source": [
    "Subsequently, 10-fold cross-validation method is used to provide an accurate estimate of out-of-sample accuracy and more efficiency in using data since every observation will be used for both training and testing. \n",
    "\n",
    "The general steps of implementing 10-fold cross-validation include:\n",
    "1. Split the dataset into 10 equal partitions (or \"folds\").\n",
    "2. Use fold 1 as the testing set and the union of the other folds as the training set.\n",
    "3. Calculate testing accuracy.\n",
    "4. Repeat steps two and three 10 times, using a different fold as the testing set each time.\n",
    "5. Use the average testing accuracy as the estimate of out-of-sample accuracy.\n"
   ]
  },
  {
   "cell_type": "markdown",
   "metadata": {
    "collapsed": true
   },
   "source": [
    "Prepare training data from data with newly selected features:"
   ]
  },
  {
   "cell_type": "code",
   "execution_count": 44,
   "metadata": {
    "collapsed": true
   },
   "outputs": [],
   "source": [
    "x_train = np.asarray(new_train_x).astype('int')\n",
    "y_train = np.asarray(new_train_y).astype('int')"
   ]
  },
  {
   "cell_type": "markdown",
   "metadata": {},
   "source": [
    "Create an instance of GradientBoostingClassifier and train the model, then evaluate scores using 10-fold cross validation:"
   ]
  },
  {
   "cell_type": "code",
   "execution_count": 45,
   "metadata": {},
   "outputs": [
    {
     "data": {
      "text/plain": [
       "array([ 0.79418985,  0.80155483,  0.79664484,  0.79369628,  0.79844326,\n",
       "        0.79762392,  0.78902089,  0.80458828,  0.79475625,  0.79762392])"
      ]
     },
     "execution_count": 45,
     "metadata": {},
     "output_type": "execute_result"
    }
   ],
   "source": [
    "model_GB = GradientBoostingClassifier()\n",
    "model_GB.fit(x_train, y_train)\n",
    "cross_val_GB = cross_val_score(model_GB, x_train, y_train, cv = 10, scoring = 'accuracy')\n",
    "cross_val_GB"
   ]
  },
  {
   "cell_type": "markdown",
   "metadata": {},
   "source": [
    "Create an instance of RandomForestClassifier and train the model, then evaluate scores using 10-fold cross validation:"
   ]
  },
  {
   "cell_type": "code",
   "execution_count": 46,
   "metadata": {},
   "outputs": [
    {
     "data": {
      "text/plain": [
       "array([ 0.76104746,  0.7794599 ,  0.77823241,  0.76668031,  0.77099549,\n",
       "        0.76485047,  0.77509218,  0.7824662 ,  0.77509218,  0.77263417])"
      ]
     },
     "execution_count": 46,
     "metadata": {},
     "output_type": "execute_result"
    }
   ],
   "source": [
    "model_RF = RandomForestClassifier()\n",
    "model_RF.fit(x_train, y_train)\n",
    "cross_val_RF = cross_val_score(model_RF, x_train, y_train, cv = 10, scoring = 'accuracy')\n",
    "cross_val_RF"
   ]
  },
  {
   "cell_type": "markdown",
   "metadata": {},
   "source": [
    "Create an instance of LogisticRegression classifier and train the model, then evaluate scores using 10-fold cross validation:"
   ]
  },
  {
   "cell_type": "code",
   "execution_count": 47,
   "metadata": {},
   "outputs": [
    {
     "data": {
      "text/plain": [
       "array([ 0.77741408,  0.7794599 ,  0.77045827,  0.77322964,  0.77836952,\n",
       "        0.77795985,  0.77140516,  0.77099549,  0.77795985,  0.77795985])"
      ]
     },
     "execution_count": 47,
     "metadata": {},
     "output_type": "execute_result"
    }
   ],
   "source": [
    "model_LR = LogisticRegression()\n",
    "model_LR.fit(x_train, y_train)\n",
    "cross_val_LR = cross_val_score(model_LR, x_train, y_train, cv = 10, scoring = 'accuracy')\n",
    "cross_val_LR"
   ]
  },
  {
   "cell_type": "markdown",
   "metadata": {},
   "source": [
    "Create an instance of neural network MLPClassifier and train the model, then evaluate scores using 10-fold cross validation:"
   ]
  },
  {
   "cell_type": "code",
   "execution_count": 48,
   "metadata": {},
   "outputs": [
    {
     "data": {
      "text/plain": [
       "array([ 0.78927987,  0.79296236,  0.79255319,  0.78796562,  0.7914789 ,\n",
       "        0.78943056,  0.79557558,  0.79352724,  0.79188857,  0.79270791])"
      ]
     },
     "execution_count": 48,
     "metadata": {},
     "output_type": "execute_result"
    }
   ],
   "source": [
    "model_MLP = MLPClassifier()\n",
    "model_MLP.fit(x_train, y_train)\n",
    "cross_val_MLP = cross_val_score(model_MLP, x_train, y_train, cv = 10, scoring = 'accuracy')\n",
    "cross_val_MLP"
   ]
  },
  {
   "cell_type": "markdown",
   "metadata": {},
   "source": [
    "Calculate and compare average scores of different classification models:"
   ]
  },
  {
   "cell_type": "code",
   "execution_count": 49,
   "metadata": {},
   "outputs": [
    {
     "data": {
      "text/html": [
       "<div>\n",
       "<style>\n",
       "    .dataframe thead tr:only-child th {\n",
       "        text-align: right;\n",
       "    }\n",
       "\n",
       "    .dataframe thead th {\n",
       "        text-align: left;\n",
       "    }\n",
       "\n",
       "    .dataframe tbody tr th {\n",
       "        vertical-align: top;\n",
       "    }\n",
       "</style>\n",
       "<table border=\"1\" class=\"dataframe\">\n",
       "  <thead>\n",
       "    <tr style=\"text-align: right;\">\n",
       "      <th></th>\n",
       "      <th>Classifier</th>\n",
       "      <th>Score Avg</th>\n",
       "      <th>Standard Deviation</th>\n",
       "    </tr>\n",
       "  </thead>\n",
       "  <tbody>\n",
       "    <tr>\n",
       "      <th>0</th>\n",
       "      <td>Gradient Boosting</td>\n",
       "      <td>79.681%</td>\n",
       "      <td>0.41%</td>\n",
       "    </tr>\n",
       "    <tr>\n",
       "      <th>1</th>\n",
       "      <td>Random Forest</td>\n",
       "      <td>77.266%</td>\n",
       "      <td>0.648%</td>\n",
       "    </tr>\n",
       "    <tr>\n",
       "      <th>2</th>\n",
       "      <td>Logistic Regression</td>\n",
       "      <td>77.552%</td>\n",
       "      <td>0.337%</td>\n",
       "    </tr>\n",
       "    <tr>\n",
       "      <th>3</th>\n",
       "      <td>Neural Network MLP</td>\n",
       "      <td>79.174%</td>\n",
       "      <td>0.216%</td>\n",
       "    </tr>\n",
       "  </tbody>\n",
       "</table>\n",
       "</div>"
      ],
      "text/plain": [
       "            Classifier Score Avg Standard Deviation\n",
       "0    Gradient Boosting   79.681%              0.41%\n",
       "1        Random Forest   77.266%             0.648%\n",
       "2  Logistic Regression   77.552%             0.337%\n",
       "3   Neural Network MLP   79.174%             0.216%"
      ]
     },
     "execution_count": 49,
     "metadata": {},
     "output_type": "execute_result"
    }
   ],
   "source": [
    "model_name = ['Gradient Boosting', 'Random Forest', 'Logistic Regression', 'Neural Network MLP']\n",
    "model_avg = [str(round(100*cross_val_GB.mean(),3))+'%', str(round(100*cross_val_RF.mean(),3))+'%', str(round(100*cross_val_LR.mean(),3))+'%', str(round(100*cross_val_MLP.mean(),3))+'%']\n",
    "model_std = [str(round(100*cross_val_GB.std(),3))+'%', str(round(100*cross_val_RF.std(),3))+'%', str(round(100*cross_val_LR.std(),3))+'%', str(round(100*cross_val_MLP.std(),3))+'%']\n",
    "\n",
    "model_scores_df = pd.DataFrame({'Classifier': model_name, 'Score Avg': model_avg, 'Standard Deviation': model_std})\n",
    "model_scores_df"
   ]
  },
  {
   "cell_type": "markdown",
   "metadata": {},
   "source": [
    "## 5. Model Tuning"
   ]
  },
  {
   "cell_type": "markdown",
   "metadata": {},
   "source": [
    "### 5.1 Hyperparameter tuning for Gradiant Boosting Classifier"
   ]
  },
  {
   "cell_type": "markdown",
   "metadata": {},
   "source": [
    "For GradientBoostingClassifier, the two hyperparameters, `learning_rate` and `n_estimators` are considered: \n",
    "\n",
    "<b>learning_rate:</b>\n",
    "learning_rate determines the impact of each tree on the final outcome. Gradient Boosting operation starts with an initial estimate which is updated using the output of each tree. The learning parameter controls the magnitude of this change in the estimates. Lower learning rate makes the model robust to the specific characteristics of tree and results in better generalization but requires higher number of trees to model all the relations and will be computationally expensive.\n",
    "\n",
    "<b>n_estimators:</b>\n",
    "n_estimators represents the number of boosting stages to perform. Gradient boosting is fairly robust to over-fitting so a large number usually results in better performance.\n",
    "\n",
    "For Gradient Boosting, there is usually a trade-off between the learning_rate and n_estimators."
   ]
  },
  {
   "cell_type": "code",
   "execution_count": 50,
   "metadata": {},
   "outputs": [
    {
     "data": {
      "text/plain": [
       "GridSearchCV(cv=3, error_score='raise',\n",
       "       estimator=GradientBoostingClassifier(criterion='friedman_mse', init=None,\n",
       "              learning_rate=0.1, loss='deviance', max_depth=3,\n",
       "              max_features=None, max_leaf_nodes=None,\n",
       "              min_impurity_decrease=0.0, min_impurity_split=None,\n",
       "              min_samples_leaf=1, min_samples_split=2,\n",
       "              min_weight_fraction_leaf=0.0, n_estimators=100,\n",
       "              presort='auto', random_state=None, subsample=1.0, verbose=0,\n",
       "              warm_start=False),\n",
       "       fit_params={}, iid=True, n_jobs=1,\n",
       "       param_grid={'learning_rate': array([ 0.001 ,  0.5005,  1.    ]), 'n_estimators': array([ 10,  55, 100])},\n",
       "       pre_dispatch='2*n_jobs', refit=True, scoring='accuracy', verbose=0)"
      ]
     },
     "execution_count": 50,
     "metadata": {},
     "output_type": "execute_result"
    }
   ],
   "source": [
    "Lrate_range = np.linspace(0.001, 1, num = 3)\n",
    "Nestimate_range = np.linspace(10, 100, num = 3).astype('int')\n",
    "\n",
    "parameters_GB = dict(learning_rate = Lrate_range, n_estimators = Nestimate_range)\n",
    "\n",
    "grid_GB = GridSearchCV(model_GB, parameters_GB, cv = 3, scoring = 'accuracy')\n",
    "grid_GB.fit(x_train, y_train)"
   ]
  },
  {
   "cell_type": "code",
   "execution_count": 51,
   "metadata": {},
   "outputs": [
    {
     "data": {
      "text/plain": [
       "[mean: 0.75480, std: 0.00006, params: {'learning_rate': 0.001, 'n_estimators': 10},\n",
       " mean: 0.75480, std: 0.00006, params: {'learning_rate': 0.001, 'n_estimators': 55},\n",
       " mean: 0.75480, std: 0.00006, params: {'learning_rate': 0.001, 'n_estimators': 100},\n",
       " mean: 0.79505, std: 0.00143, params: {'learning_rate': 0.50049999999999994, 'n_estimators': 10},\n",
       " mean: 0.79526, std: 0.00074, params: {'learning_rate': 0.50049999999999994, 'n_estimators': 55},\n",
       " mean: 0.79399, std: 0.00137, params: {'learning_rate': 0.50049999999999994, 'n_estimators': 100},\n",
       " mean: 0.79653, std: 0.00243, params: {'learning_rate': 1.0, 'n_estimators': 10},\n",
       " mean: 0.79194, std: 0.00193, params: {'learning_rate': 1.0, 'n_estimators': 55},\n",
       " mean: 0.79096, std: 0.00346, params: {'learning_rate': 1.0, 'n_estimators': 100}]"
      ]
     },
     "execution_count": 51,
     "metadata": {},
     "output_type": "execute_result"
    }
   ],
   "source": [
    "grid_GB.grid_scores_"
   ]
  },
  {
   "cell_type": "code",
   "execution_count": 52,
   "metadata": {},
   "outputs": [
    {
     "data": {
      "text/html": [
       "<div>\n",
       "<style>\n",
       "    .dataframe thead tr:only-child th {\n",
       "        text-align: right;\n",
       "    }\n",
       "\n",
       "    .dataframe thead th {\n",
       "        text-align: left;\n",
       "    }\n",
       "\n",
       "    .dataframe tbody tr th {\n",
       "        vertical-align: top;\n",
       "    }\n",
       "</style>\n",
       "<table border=\"1\" class=\"dataframe\">\n",
       "  <thead>\n",
       "    <tr style=\"text-align: right;\">\n",
       "      <th></th>\n",
       "      <th>GB Best Parameters</th>\n",
       "    </tr>\n",
       "  </thead>\n",
       "  <tbody>\n",
       "    <tr>\n",
       "      <th>learning_rate</th>\n",
       "      <td>1.0</td>\n",
       "    </tr>\n",
       "    <tr>\n",
       "      <th>n_estimators</th>\n",
       "      <td>10.0</td>\n",
       "    </tr>\n",
       "  </tbody>\n",
       "</table>\n",
       "</div>"
      ],
      "text/plain": [
       "               GB Best Parameters\n",
       "learning_rate                 1.0\n",
       "n_estimators                 10.0"
      ]
     },
     "execution_count": 52,
     "metadata": {},
     "output_type": "execute_result"
    }
   ],
   "source": [
    "best_GB = pd.DataFrame({'GB Best Parameters': grid_GB.best_params_})\n",
    "best_GB"
   ]
  },
  {
   "cell_type": "code",
   "execution_count": 53,
   "metadata": {},
   "outputs": [
    {
     "name": "stdout",
     "output_type": "stream",
     "text": [
      "GB Best Score: 79.653%\n"
     ]
    }
   ],
   "source": [
    "print('GB Best Score:', str(round(100*grid_GB.best_score_,3))+'%')"
   ]
  },
  {
   "cell_type": "markdown",
   "metadata": {},
   "source": [
    "### 5.2 Hyperparamter tuning for Random Forrest Classifier"
   ]
  },
  {
   "cell_type": "markdown",
   "metadata": {},
   "source": [
    "For RandomForestClassifier, the hyperparameter, `n_estimators` is considered:\n",
    "\n",
    "<b>n_estimators:</b> n_estimators represents the number of trees in the foreset. Higher number of trees has better performance but also longer computation time.\n",
    "\n",
    "<b>max_features:</b> max_features represents the maximum number of features Random Forest is allowed to try in individual tree. Some options include:\n",
    "- auto : takes all the features which make sense in every tree.\n",
    "- sqrt : takes square root of the total number of features in individual run.\n",
    "- 0.2 : takes 20% of variables in individual run.\n",
    "\n",
    "Increasing max_features generally improves the performance of the model since there is a higher number of options to be considered at each node. However, this decreases the diversity of individual tree. But the speed of algorithm improves by increasing the max_features. Therefore, a tradeoff exists when choosing optimal max_features."
   ]
  },
  {
   "cell_type": "code",
   "execution_count": 54,
   "metadata": {},
   "outputs": [
    {
     "data": {
      "text/plain": [
       "GridSearchCV(cv=3, error_score='raise',\n",
       "       estimator=RandomForestClassifier(bootstrap=True, class_weight=None, criterion='gini',\n",
       "            max_depth=None, max_features='auto', max_leaf_nodes=None,\n",
       "            min_impurity_decrease=0.0, min_impurity_split=None,\n",
       "            min_samples_leaf=1, min_samples_split=2,\n",
       "            min_weight_fraction_leaf=0.0, n_estimators=10, n_jobs=1,\n",
       "            oob_score=False, random_state=None, verbose=0,\n",
       "            warm_start=False),\n",
       "       fit_params={}, iid=True, n_jobs=1,\n",
       "       param_grid={'n_estimators': array([  10, 1006, 2003, 3000]), 'max_features': ['auto', 'sqrt', 0.2]},\n",
       "       pre_dispatch='2*n_jobs', refit=True, scoring='accuracy', verbose=0)"
      ]
     },
     "execution_count": 54,
     "metadata": {},
     "output_type": "execute_result"
    }
   ],
   "source": [
    "Nestimate_RF_range = np.linspace(10, 3000, num = 4).astype('int')\n",
    "max_RF_features_types = ['auto','sqrt', 0.2]\n",
    "\n",
    "parameters_RF = dict(n_estimators = Nestimate_RF_range, max_features = max_RF_features_types)\n",
    "\n",
    "grid_RF = GridSearchCV(model_RF, parameters_RF, cv = 3, scoring = 'accuracy')\n",
    "grid_RF.fit(x_train, y_train)"
   ]
  },
  {
   "cell_type": "code",
   "execution_count": 55,
   "metadata": {},
   "outputs": [
    {
     "data": {
      "text/plain": [
       "[mean: 0.77016, std: 0.00312, params: {'max_features': 'auto', 'n_estimators': 10},\n",
       " mean: 0.77511, std: 0.00239, params: {'max_features': 'auto', 'n_estimators': 1006},\n",
       " mean: 0.77564, std: 0.00353, params: {'max_features': 'auto', 'n_estimators': 2003},\n",
       " mean: 0.77519, std: 0.00260, params: {'max_features': 'auto', 'n_estimators': 3000},\n",
       " mean: 0.77069, std: 0.00158, params: {'max_features': 'sqrt', 'n_estimators': 10},\n",
       " mean: 0.77609, std: 0.00274, params: {'max_features': 'sqrt', 'n_estimators': 1006},\n",
       " mean: 0.77548, std: 0.00280, params: {'max_features': 'sqrt', 'n_estimators': 2003},\n",
       " mean: 0.77515, std: 0.00253, params: {'max_features': 'sqrt', 'n_estimators': 3000},\n",
       " mean: 0.77053, std: 0.00364, params: {'max_features': 0.2, 'n_estimators': 10},\n",
       " mean: 0.77720, std: 0.00333, params: {'max_features': 0.2, 'n_estimators': 1006},\n",
       " mean: 0.77630, std: 0.00368, params: {'max_features': 0.2, 'n_estimators': 2003},\n",
       " mean: 0.77663, std: 0.00241, params: {'max_features': 0.2, 'n_estimators': 3000}]"
      ]
     },
     "execution_count": 55,
     "metadata": {},
     "output_type": "execute_result"
    }
   ],
   "source": [
    "grid_RF.grid_scores_"
   ]
  },
  {
   "cell_type": "code",
   "execution_count": 56,
   "metadata": {},
   "outputs": [
    {
     "data": {
      "text/html": [
       "<div>\n",
       "<style>\n",
       "    .dataframe thead tr:only-child th {\n",
       "        text-align: right;\n",
       "    }\n",
       "\n",
       "    .dataframe thead th {\n",
       "        text-align: left;\n",
       "    }\n",
       "\n",
       "    .dataframe tbody tr th {\n",
       "        vertical-align: top;\n",
       "    }\n",
       "</style>\n",
       "<table border=\"1\" class=\"dataframe\">\n",
       "  <thead>\n",
       "    <tr style=\"text-align: right;\">\n",
       "      <th></th>\n",
       "      <th>RF Best Parameters</th>\n",
       "      <th>RF Best Score</th>\n",
       "    </tr>\n",
       "  </thead>\n",
       "  <tbody>\n",
       "    <tr>\n",
       "      <th>max_features</th>\n",
       "      <td>0.2</td>\n",
       "      <td>77.72%</td>\n",
       "    </tr>\n",
       "    <tr>\n",
       "      <th>n_estimators</th>\n",
       "      <td>1006.0</td>\n",
       "      <td>77.72%</td>\n",
       "    </tr>\n",
       "  </tbody>\n",
       "</table>\n",
       "</div>"
      ],
      "text/plain": [
       "              RF Best Parameters RF Best Score\n",
       "max_features                 0.2        77.72%\n",
       "n_estimators              1006.0        77.72%"
      ]
     },
     "execution_count": 56,
     "metadata": {},
     "output_type": "execute_result"
    }
   ],
   "source": [
    "best_RF = pd.DataFrame({'RF Best Parameters': grid_RF.best_params_, 'RF Best Score': str(round(100*grid_RF.best_score_,3))+'%'})\n",
    "best_RF"
   ]
  },
  {
   "cell_type": "markdown",
   "metadata": {},
   "source": [
    "### 5.3 Hyperparamter tuning for Logistic Regression"
   ]
  },
  {
   "cell_type": "markdown",
   "metadata": {},
   "source": [
    "For LogisticRegression classifier, the three hyperparameters, solver, multi_class and C are considered:\n",
    "\n",
    "<b>solver:</b> solver reqpresents the algorithm to use in the optimization problem. For multiclass problems, ‘newton-cg’, ‘sag’, ‘saga’ and ‘lbfgs’ handle multinomial loss; ‘newton-cg’, ‘lbfgs’ and ‘sag’ handle L2 penalty, \n",
    "\n",
    "<b>multi_class:</b> Multiclass option can be either ‘ovr’ or ‘multinomial’. If the option chosen is ‘ovr’, then a binary problem is fit for each label. Else the loss minimised is the multinomial loss fit across the entire probability distribution.\n",
    "\n",
    "<b>C:</b> C represents the inverse of regularization strength"
   ]
  },
  {
   "cell_type": "code",
   "execution_count": 57,
   "metadata": {},
   "outputs": [
    {
     "data": {
      "text/plain": [
       "GridSearchCV(cv=3, error_score='raise',\n",
       "       estimator=LogisticRegression(C=1.0, class_weight=None, dual=False, fit_intercept=True,\n",
       "          intercept_scaling=1, max_iter=100, multi_class='ovr', n_jobs=1,\n",
       "          penalty='l2', random_state=None, solver='liblinear', tol=0.0001,\n",
       "          verbose=0, warm_start=False),\n",
       "       fit_params={}, iid=True, n_jobs=1,\n",
       "       param_grid={'solver': ['newton-cg', 'lbfgs', 'sag'], 'multi_class': ['ovr', 'multinomial'], 'C': array([  1.00000e-01,   5.00050e+02,   1.00000e+03])},\n",
       "       pre_dispatch='2*n_jobs', refit=True, scoring='accuracy', verbose=0)"
      ]
     },
     "execution_count": 57,
     "metadata": {},
     "output_type": "execute_result"
    }
   ],
   "source": [
    "C_range = np.linspace(0.1, 1000, num = 3)\n",
    "solver_opt = ['newton-cg', 'lbfgs', 'sag']\n",
    "multiClass_opt = ['ovr', 'multinomial']\n",
    "\n",
    "parameters_LR = dict(solver = solver_opt, multi_class = multiClass_opt, C = C_range)\n",
    "\n",
    "grid_LR = GridSearchCV(model_LR, parameters_LR, cv = 3, scoring = 'accuracy')\n",
    "grid_LR.fit(x_train, y_train)"
   ]
  },
  {
   "cell_type": "code",
   "execution_count": 58,
   "metadata": {},
   "outputs": [
    {
     "data": {
      "text/plain": [
       "[mean: 0.77593, std: 0.00041, params: {'C': 0.10000000000000001, 'multi_class': 'ovr', 'solver': 'newton-cg'},\n",
       " mean: 0.77593, std: 0.00041, params: {'C': 0.10000000000000001, 'multi_class': 'ovr', 'solver': 'lbfgs'},\n",
       " mean: 0.77593, std: 0.00041, params: {'C': 0.10000000000000001, 'multi_class': 'ovr', 'solver': 'sag'},\n",
       " mean: 0.77622, std: 0.00110, params: {'C': 0.10000000000000001, 'multi_class': 'multinomial', 'solver': 'newton-cg'},\n",
       " mean: 0.77618, std: 0.00105, params: {'C': 0.10000000000000001, 'multi_class': 'multinomial', 'solver': 'lbfgs'},\n",
       " mean: 0.77622, std: 0.00110, params: {'C': 0.10000000000000001, 'multi_class': 'multinomial', 'solver': 'sag'},\n",
       " mean: 0.77593, std: 0.00047, params: {'C': 500.05000000000001, 'multi_class': 'ovr', 'solver': 'newton-cg'},\n",
       " mean: 0.77593, std: 0.00047, params: {'C': 500.05000000000001, 'multi_class': 'ovr', 'solver': 'lbfgs'},\n",
       " mean: 0.77593, std: 0.00047, params: {'C': 500.05000000000001, 'multi_class': 'ovr', 'solver': 'sag'},\n",
       " mean: 0.77626, std: 0.00114, params: {'C': 500.05000000000001, 'multi_class': 'multinomial', 'solver': 'newton-cg'},\n",
       " mean: 0.77601, std: 0.00094, params: {'C': 500.05000000000001, 'multi_class': 'multinomial', 'solver': 'lbfgs'},\n",
       " mean: 0.77626, std: 0.00114, params: {'C': 500.05000000000001, 'multi_class': 'multinomial', 'solver': 'sag'},\n",
       " mean: 0.77593, std: 0.00047, params: {'C': 1000.0, 'multi_class': 'ovr', 'solver': 'newton-cg'},\n",
       " mean: 0.77593, std: 0.00047, params: {'C': 1000.0, 'multi_class': 'ovr', 'solver': 'lbfgs'},\n",
       " mean: 0.77593, std: 0.00047, params: {'C': 1000.0, 'multi_class': 'ovr', 'solver': 'sag'},\n",
       " mean: 0.77626, std: 0.00114, params: {'C': 1000.0, 'multi_class': 'multinomial', 'solver': 'newton-cg'},\n",
       " mean: 0.77573, std: 0.00129, params: {'C': 1000.0, 'multi_class': 'multinomial', 'solver': 'lbfgs'},\n",
       " mean: 0.77626, std: 0.00114, params: {'C': 1000.0, 'multi_class': 'multinomial', 'solver': 'sag'}]"
      ]
     },
     "execution_count": 58,
     "metadata": {},
     "output_type": "execute_result"
    }
   ],
   "source": [
    "grid_LR.grid_scores_"
   ]
  },
  {
   "cell_type": "code",
   "execution_count": 59,
   "metadata": {},
   "outputs": [
    {
     "data": {
      "text/html": [
       "<div>\n",
       "<style>\n",
       "    .dataframe thead tr:only-child th {\n",
       "        text-align: right;\n",
       "    }\n",
       "\n",
       "    .dataframe thead th {\n",
       "        text-align: left;\n",
       "    }\n",
       "\n",
       "    .dataframe tbody tr th {\n",
       "        vertical-align: top;\n",
       "    }\n",
       "</style>\n",
       "<table border=\"1\" class=\"dataframe\">\n",
       "  <thead>\n",
       "    <tr style=\"text-align: right;\">\n",
       "      <th></th>\n",
       "      <th>LR Best Parameters</th>\n",
       "    </tr>\n",
       "  </thead>\n",
       "  <tbody>\n",
       "    <tr>\n",
       "      <th>C</th>\n",
       "      <td>500.05</td>\n",
       "    </tr>\n",
       "    <tr>\n",
       "      <th>multi_class</th>\n",
       "      <td>multinomial</td>\n",
       "    </tr>\n",
       "    <tr>\n",
       "      <th>solver</th>\n",
       "      <td>newton-cg</td>\n",
       "    </tr>\n",
       "  </tbody>\n",
       "</table>\n",
       "</div>"
      ],
      "text/plain": [
       "            LR Best Parameters\n",
       "C                       500.05\n",
       "multi_class        multinomial\n",
       "solver               newton-cg"
      ]
     },
     "execution_count": 59,
     "metadata": {},
     "output_type": "execute_result"
    }
   ],
   "source": [
    "best_LR = pd.DataFrame({'LR Best Parameters': grid_LR.best_params_})\n",
    "best_LR"
   ]
  },
  {
   "cell_type": "code",
   "execution_count": 60,
   "metadata": {},
   "outputs": [
    {
     "name": "stdout",
     "output_type": "stream",
     "text": [
      "LR Best Score: 77.626%\n"
     ]
    }
   ],
   "source": [
    "print('LR Best Score:', str(round(100*grid_LR.best_score_,3))+'%')"
   ]
  },
  {
   "cell_type": "markdown",
   "metadata": {},
   "source": [
    "### 5.4 Hyperparameter tuning for Neural Network Classifier"
   ]
  },
  {
   "cell_type": "markdown",
   "metadata": {},
   "source": [
    "For Neural Network Classifier, the two hyperparameters, maxi_iter and learning_rate are considered:\n",
    "\n",
    "\n",
    "<b>learning_rate:</b> learning rate types controls whether the learning_rate value is constant, grows or decays throughout training. A growing/decaying learning rate helps with gradient problem during optimization the loss function. Types include:\n",
    "- ‘constant’ is a constant learning rate given by ‘learning_rate_init’.\n",
    "- ‘invscaling’ gradually decreases the learning rate learning_rate_ at each time step ‘t’ using an inverse scaling exponent of ‘power_t’. effective_learning_rate = learning_rate_init / pow(t, power_t)\n",
    "- ‘adaptive’ keeps the learning rate constant to ‘learning_rate_init’ as long as training loss keeps decreasing. Each time two consecutive epochs fail to decrease training loss by at least tol, or fail to increase validation score by at least tol if ‘early_stopping’ is on, the current learning rate is divided by 5.\n",
    "\n",
    "<b>max_iter:</b> Higher max_iter value can produce better performance but too much training can cause overfitting problems.\n"
   ]
  },
  {
   "cell_type": "code",
   "execution_count": 61,
   "metadata": {},
   "outputs": [
    {
     "data": {
      "text/plain": [
       "GridSearchCV(cv=3, error_score='raise',\n",
       "       estimator=MLPClassifier(activation='relu', alpha=0.0001, batch_size='auto', beta_1=0.9,\n",
       "       beta_2=0.999, early_stopping=False, epsilon=1e-08,\n",
       "       hidden_layer_sizes=(100,), learning_rate='constant',\n",
       "       learning_rate_init=0.001, max_iter=200, momentum=0.9,\n",
       "       nesterovs_momentum=True, power_t=0.5, random_state=None,\n",
       "       shuffle=True, solver='adam', tol=0.0001, validation_fraction=0.1,\n",
       "       verbose=False, warm_start=False),\n",
       "       fit_params={}, iid=True, n_jobs=1,\n",
       "       param_grid={'learning_rate': ['constant', 'invscaling', 'adaptive'], 'max_iter': array([ 100,  400,  700, 1000])},\n",
       "       pre_dispatch='2*n_jobs', refit=True, scoring='accuracy', verbose=0)"
      ]
     },
     "execution_count": 61,
     "metadata": {},
     "output_type": "execute_result"
    }
   ],
   "source": [
    "Max_iter_range = np.linspace(100, 1000, num = 4).astype('int')\n",
    "Lrate_type = ['constant', 'invscaling', 'adaptive']\n",
    "\n",
    "parameters_MLP = dict(learning_rate = Lrate_type, max_iter = Max_iter_range)\n",
    "\n",
    "grid_MLP = GridSearchCV(model_MLP, parameters_MLP, cv = 3, scoring = 'accuracy')\n",
    "grid_MLP.fit(x_train, y_train)"
   ]
  },
  {
   "cell_type": "code",
   "execution_count": 62,
   "metadata": {},
   "outputs": [
    {
     "data": {
      "text/plain": [
       "[mean: 0.79055, std: 0.00471, params: {'learning_rate': 'constant', 'max_iter': 100},\n",
       " mean: 0.79129, std: 0.00218, params: {'learning_rate': 'constant', 'max_iter': 400},\n",
       " mean: 0.79014, std: 0.00467, params: {'learning_rate': 'constant', 'max_iter': 700},\n",
       " mean: 0.79198, std: 0.00177, params: {'learning_rate': 'constant', 'max_iter': 1000},\n",
       " mean: 0.78948, std: 0.00309, params: {'learning_rate': 'invscaling', 'max_iter': 100},\n",
       " mean: 0.79059, std: 0.00470, params: {'learning_rate': 'invscaling', 'max_iter': 400},\n",
       " mean: 0.78760, std: 0.00469, params: {'learning_rate': 'invscaling', 'max_iter': 700},\n",
       " mean: 0.79182, std: 0.00292, params: {'learning_rate': 'invscaling', 'max_iter': 1000},\n",
       " mean: 0.79149, std: 0.00421, params: {'learning_rate': 'adaptive', 'max_iter': 100},\n",
       " mean: 0.79161, std: 0.00616, params: {'learning_rate': 'adaptive', 'max_iter': 400},\n",
       " mean: 0.79153, std: 0.00207, params: {'learning_rate': 'adaptive', 'max_iter': 700},\n",
       " mean: 0.78973, std: 0.00239, params: {'learning_rate': 'adaptive', 'max_iter': 1000}]"
      ]
     },
     "execution_count": 62,
     "metadata": {},
     "output_type": "execute_result"
    }
   ],
   "source": [
    "grid_MLP.grid_scores_"
   ]
  },
  {
   "cell_type": "code",
   "execution_count": 63,
   "metadata": {},
   "outputs": [
    {
     "data": {
      "text/html": [
       "<div>\n",
       "<style>\n",
       "    .dataframe thead tr:only-child th {\n",
       "        text-align: right;\n",
       "    }\n",
       "\n",
       "    .dataframe thead th {\n",
       "        text-align: left;\n",
       "    }\n",
       "\n",
       "    .dataframe tbody tr th {\n",
       "        vertical-align: top;\n",
       "    }\n",
       "</style>\n",
       "<table border=\"1\" class=\"dataframe\">\n",
       "  <thead>\n",
       "    <tr style=\"text-align: right;\">\n",
       "      <th></th>\n",
       "      <th>MLP Best Parameters</th>\n",
       "    </tr>\n",
       "  </thead>\n",
       "  <tbody>\n",
       "    <tr>\n",
       "      <th>learning_rate</th>\n",
       "      <td>constant</td>\n",
       "    </tr>\n",
       "    <tr>\n",
       "      <th>max_iter</th>\n",
       "      <td>1000</td>\n",
       "    </tr>\n",
       "  </tbody>\n",
       "</table>\n",
       "</div>"
      ],
      "text/plain": [
       "              MLP Best Parameters\n",
       "learning_rate            constant\n",
       "max_iter                     1000"
      ]
     },
     "execution_count": 63,
     "metadata": {},
     "output_type": "execute_result"
    }
   ],
   "source": [
    "best_MLP = pd.DataFrame({'MLP Best Parameters': grid_MLP.best_params_})\n",
    "best_MLP"
   ]
  },
  {
   "cell_type": "code",
   "execution_count": 64,
   "metadata": {},
   "outputs": [
    {
     "name": "stdout",
     "output_type": "stream",
     "text": [
      "MLP Best Score: 79.198%\n"
     ]
    }
   ],
   "source": [
    "print('MLP Best Score:', str(round(100*grid_MLP.best_score_,3))+'%')"
   ]
  },
  {
   "cell_type": "code",
   "execution_count": 65,
   "metadata": {},
   "outputs": [
    {
     "data": {
      "text/html": [
       "<div>\n",
       "<style>\n",
       "    .dataframe thead tr:only-child th {\n",
       "        text-align: right;\n",
       "    }\n",
       "\n",
       "    .dataframe thead th {\n",
       "        text-align: left;\n",
       "    }\n",
       "\n",
       "    .dataframe tbody tr th {\n",
       "        vertical-align: top;\n",
       "    }\n",
       "</style>\n",
       "<table border=\"1\" class=\"dataframe\">\n",
       "  <thead>\n",
       "    <tr style=\"text-align: right;\">\n",
       "      <th></th>\n",
       "      <th>Best Score</th>\n",
       "      <th>Classifier</th>\n",
       "    </tr>\n",
       "  </thead>\n",
       "  <tbody>\n",
       "    <tr>\n",
       "      <th>0</th>\n",
       "      <td>79.653%</td>\n",
       "      <td>Gradient Boosting</td>\n",
       "    </tr>\n",
       "    <tr>\n",
       "      <th>1</th>\n",
       "      <td>77.72%</td>\n",
       "      <td>Random Forest</td>\n",
       "    </tr>\n",
       "    <tr>\n",
       "      <th>2</th>\n",
       "      <td>77.626%</td>\n",
       "      <td>Logistic Regression</td>\n",
       "    </tr>\n",
       "    <tr>\n",
       "      <th>3</th>\n",
       "      <td>79.198%</td>\n",
       "      <td>Neural Network MLP</td>\n",
       "    </tr>\n",
       "  </tbody>\n",
       "</table>\n",
       "</div>"
      ],
      "text/plain": [
       "  Best Score           Classifier\n",
       "0    79.653%    Gradient Boosting\n",
       "1     77.72%        Random Forest\n",
       "2    77.626%  Logistic Regression\n",
       "3    79.198%   Neural Network MLP"
      ]
     },
     "execution_count": 65,
     "metadata": {},
     "output_type": "execute_result"
    }
   ],
   "source": [
    "model_best_score = [str(round(100*grid_GB.best_score_,3))+'%', str(round(100*grid_RF.best_score_,3))+'%', str(round(100*grid_LR.best_score_,3))+'%', str(round(100*grid_MLP.best_score_,3))+'%']\n",
    "\n",
    "model_best_scores_df = pd.DataFrame({'Classifier': model_name, 'Best Score': model_best_score})\n",
    "model_best_scores_df\n"
   ]
  },
  {
   "cell_type": "markdown",
   "metadata": {},
   "source": [
    "## 6. Testing & Discussion"
   ]
  },
  {
   "cell_type": "markdown",
   "metadata": {},
   "source": [
    "Based on the above analysis, the two models that yield the highest accuracies are Gradient Boosting and Neural Netwrok models. Therefore, these two models are used on testing dataset:"
   ]
  },
  {
   "cell_type": "code",
   "execution_count": 66,
   "metadata": {
    "collapsed": true
   },
   "outputs": [],
   "source": [
    "x_test = np.asarray(new_train_x).astype('int')\n",
    "y_test = np.asarray(new_train_y).astype('int')"
   ]
  },
  {
   "cell_type": "markdown",
   "metadata": {},
   "source": [
    "<b>Gradient Boosting Classifier:</b>"
   ]
  },
  {
   "cell_type": "code",
   "execution_count": 67,
   "metadata": {
    "collapsed": true
   },
   "outputs": [],
   "source": [
    "updated_GBC_model = GradientBoostingClassifier(n_estimators = 10, learning_rate = 1)\n",
    "updated_GBC_model.fit(x_train, y_train)\n",
    "y_pred_GB = updated_GBC_model.predict(x_test)"
   ]
  },
  {
   "cell_type": "markdown",
   "metadata": {},
   "source": [
    "<b>Neural Network Classifier:</b>"
   ]
  },
  {
   "cell_type": "code",
   "execution_count": 68,
   "metadata": {},
   "outputs": [],
   "source": [
    "updated_MLP_model = MLPClassifier(learning_rate = 'constant', max_iter = 700)\n",
    "updated_MLP_model.fit(x_train, y_train)\n",
    "y_pred_MLP = updated_MLP_model.predict(x_test)"
   ]
  },
  {
   "cell_type": "code",
   "execution_count": 69,
   "metadata": {},
   "outputs": [
    {
     "data": {
      "text/html": [
       "<div>\n",
       "<style>\n",
       "    .dataframe thead tr:only-child th {\n",
       "        text-align: right;\n",
       "    }\n",
       "\n",
       "    .dataframe thead th {\n",
       "        text-align: left;\n",
       "    }\n",
       "\n",
       "    .dataframe tbody tr th {\n",
       "        vertical-align: top;\n",
       "    }\n",
       "</style>\n",
       "<table border=\"1\" class=\"dataframe\">\n",
       "  <thead>\n",
       "    <tr style=\"text-align: right;\">\n",
       "      <th></th>\n",
       "      <th>Classifier</th>\n",
       "      <th>Testing Score</th>\n",
       "      <th>Training Score</th>\n",
       "    </tr>\n",
       "  </thead>\n",
       "  <tbody>\n",
       "    <tr>\n",
       "      <th>0</th>\n",
       "      <td>Gradient Boosting</td>\n",
       "      <td>79.939%</td>\n",
       "      <td>79.653%</td>\n",
       "    </tr>\n",
       "    <tr>\n",
       "      <th>1</th>\n",
       "      <td>Neural Network MLP</td>\n",
       "      <td>79.17%</td>\n",
       "      <td>79.198%</td>\n",
       "    </tr>\n",
       "  </tbody>\n",
       "</table>\n",
       "</div>"
      ],
      "text/plain": [
       "           Classifier Testing Score Training Score\n",
       "0   Gradient Boosting       79.939%        79.653%\n",
       "1  Neural Network MLP        79.17%        79.198%"
      ]
     },
     "execution_count": 69,
     "metadata": {},
     "output_type": "execute_result"
    }
   ],
   "source": [
    "test_score = [str(100*round(metrics.accuracy_score(y_test, y_pred_GB),5))+'%',str(100*round(metrics.accuracy_score(y_test, y_pred_MLP),5))+'%']\n",
    "train_score = [str(round(100*grid_GB.best_score_,3))+'%', str(round(100*grid_MLP.best_score_,3))+'%']\n",
    "final_model_name = ['Gradient Boosting', 'Neural Network MLP']\n",
    "\n",
    "test_train_score_df = pd.DataFrame({'Classifier': final_model_name, 'Testing Score': test_score, 'Training Score': train_score})\n",
    "test_train_score_df"
   ]
  },
  {
   "cell_type": "markdown",
   "metadata": {},
   "source": [
    "Scores show that testing and training scores are very consistent with each other (within 0.5%), which suggests that the trained model performs well without overfitting or underfitting problems. To improve the model performance, feature selection and engineering can be further investigated, since correlating features (although some eliminated) can affect model accuracy."
   ]
  },
  {
   "cell_type": "code",
   "execution_count": null,
   "metadata": {
    "collapsed": true
   },
   "outputs": [],
   "source": []
  }
 ],
 "metadata": {
  "kernelspec": {
   "display_name": "Python 3",
   "language": "python",
   "name": "python3"
  },
  "language_info": {
   "codemirror_mode": {
    "name": "ipython",
    "version": 3
   },
   "file_extension": ".py",
   "mimetype": "text/x-python",
   "name": "python",
   "nbconvert_exporter": "python",
   "pygments_lexer": "ipython3",
   "version": "3.6.3"
  }
 },
 "nbformat": 4,
 "nbformat_minor": 2
}
